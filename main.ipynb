{
 "cells": [
  {
   "cell_type": "code",
   "execution_count": 1,
   "metadata": {},
   "outputs": [],
   "source": [
    "import csv\n",
    "import signal\n",
    "import ssl\n",
    "import time\n",
    "from multiprocessing import Pool, cpu_count, Value, Lock\n",
    "from os import getpid, kill\n",
    "import OpenSSL\n",
    "import requests\n",
    "from urllib3 import exceptions\n",
    "import base64\n",
    "from selenium import webdriver\n",
    "from selenium.webdriver.common.keys import Keys\n",
    "from selenium.webdriver.common.action_chains import ActionChains\n",
    "from selenium.webdriver.common.by import By\n",
    "from selenium.webdriver.support.ui import WebDriverWait\n",
    "from selenium.webdriver.support import expected_conditions as EC\n",
    "from selenium.common.exceptions import NoSuchElementException\n",
    "from selenium.webdriver.chrome.options import Options\n",
    "from difflib import SequenceMatcher"
   ]
  },
  {
   "cell_type": "code",
   "execution_count": 2,
   "metadata": {
    "pycharm": {
     "name": "#%%\n"
    }
   },
   "outputs": [],
   "source": [
    "client_id = '9c7dc5330ca142a691fd0959682d0761'\n",
    "client_secret = '5ff88db8af1d4b1f97828479a33b5c1e'"
   ]
  },
  {
   "cell_type": "code",
   "execution_count": 3,
   "metadata": {
    "pycharm": {
     "name": "#%%\n"
    }
   },
   "outputs": [],
   "source": [
    "def get_auth_token():\n",
    "    tmp = client_id + ':' + client_secret\n",
    "    tmp = tmp.encode('ascii')\n",
    "    base64_code = base64.b64encode(tmp)\n",
    "    base64_code = base64_code.decode('ascii')\n",
    "    try:\n",
    "        url = 'https://accounts.spotify.com/api/token'\n",
    "        request = requests.post(url=url, headers={'Authorization': 'Basic ' + str(base64_code)}, data={'grant_type': 'client_credentials'})\n",
    "    except OpenSSL.SSL.SysCallError as e:\n",
    "        print(e)\n",
    "        return None\n",
    "    except ssl.SSLError as e:\n",
    "        print(e)\n",
    "        return None\n",
    "    except exceptions.MaxRetryError as e:\n",
    "        print(e)\n",
    "        return None\n",
    "    except requests.exceptions.SSLError as e:\n",
    "        print(e)\n",
    "        return None\n",
    "    except:\n",
    "        print(\"Unknown error. Unable to get further information.\")\n",
    "        return None\n",
    "\n",
    "    data = request.json()\n",
    "    return data['access_token'], data['expires_in']"
   ]
  },
  {
   "cell_type": "code",
   "execution_count": 4,
   "metadata": {
    "pycharm": {
     "name": "#%%\n"
    }
   },
   "outputs": [],
   "source": [
    "def fetch_playlists(authorization):\n",
    "    try:\n",
    "        url = 'https://api.spotify.com/v1/users/gangstarappa/playlists'\n",
    "        request = requests.get(url=url, headers={'Authorization': 'Bearer ' + authorization})\n",
    "    except OpenSSL.SSL.SysCallError as e:\n",
    "        print(e)\n",
    "        return None\n",
    "    except ssl.SSLError as e:\n",
    "        print(e)\n",
    "        return None\n",
    "    except exceptions.MaxRetryError as e:\n",
    "        print(e)\n",
    "        return None\n",
    "    except requests.exceptions.SSLError as e:\n",
    "        print(e)\n",
    "        return None\n",
    "    except:\n",
    "        print(\"Unknown error. Unable to get further information.\")\n",
    "        return None\n",
    "\n",
    "    data = request.json()\n",
    "    return data"
   ]
  },
  {
   "cell_type": "code",
   "execution_count": 5,
   "metadata": {
    "pycharm": {
     "name": "#%%\n"
    }
   },
   "outputs": [],
   "source": [
    "def fetch_playlist(authorization, playlist_id):\n",
    "    ret = list()\n",
    "    try:\n",
    "        offset = 0\n",
    "        for i in range(10):\n",
    "            url = 'https://api.spotify.com/v1/playlists/' + playlist_id + '/tracks'\n",
    "            request = requests.get(url=url, headers={'Authorization': 'Bearer ' + authorization}, params={'offset': str(offset)})\n",
    "            while request.status_code != 200:\n",
    "                if request.status_code == 429:\n",
    "                    retry = int(request.headers['Retry-After']) + 1\n",
    "                    print(f\"Process {getpid()}: Response code {request.status_code}. Retrying in {retry}s..\")\n",
    "                    time.sleep(retry)\n",
    "                    request = requests.get(url=url, headers={'Authorization': 'Bearer ' + authorization}, params={'offset': str(offset)})\n",
    "                elif request.status_code == 403:\n",
    "                    print(f\"Process {getpid()}: Response code {request.status_code}. Killing process.\")\n",
    "                    kill(getpid(), signal.SIGTERM)\n",
    "                    return None\n",
    "                else:\n",
    "                    print(f\"Response code {request.status_code}. Ending query chain.\")\n",
    "                    return None\n",
    "\n",
    "            offset += 100\n",
    "            data = request.json()\n",
    "            # print(data)\n",
    "            ret.append(data)\n",
    "    except OpenSSL.SSL.SysCallError as e:\n",
    "        print(e)\n",
    "        return None\n",
    "    except ssl.SSLError as e:\n",
    "        print(e)\n",
    "        return None\n",
    "    except exceptions.MaxRetryError as e:\n",
    "        print(e)\n",
    "        return None\n",
    "    except requests.exceptions.SSLError as e:\n",
    "        print(e)\n",
    "        return None\n",
    "    except:\n",
    "        print(\"Unknown error. Unable to get further information.\")\n",
    "        return None\n",
    "\n",
    "    return ret"
   ]
  },
  {
   "cell_type": "code",
   "execution_count": 6,
   "metadata": {
    "pycharm": {
     "name": "#%%\n"
    }
   },
   "outputs": [],
   "source": [
    "access_token, expires_in = get_auth_token()"
   ]
  },
  {
   "cell_type": "code",
   "execution_count": 7,
   "metadata": {
    "pycharm": {
     "name": "#%%\n"
    }
   },
   "outputs": [],
   "source": [
    "playlists_raw = fetch_playlists(access_token)"
   ]
  },
  {
   "cell_type": "code",
   "execution_count": 8,
   "metadata": {
    "pycharm": {
     "name": "#%%\n"
    }
   },
   "outputs": [],
   "source": [
    "playlists = dict()\n",
    "for playlist in playlists_raw['items']:\n",
    "    playlists[playlist['name']] = playlist['id']"
   ]
  },
  {
   "cell_type": "code",
   "execution_count": 9,
   "metadata": {
    "pycharm": {
     "name": "#%%\n"
    }
   },
   "outputs": [],
   "source": [
    "tracks_raw = fetch_playlist(access_token, playlists['#EDMParty'])"
   ]
  },
  {
   "cell_type": "code",
   "execution_count": 10,
   "metadata": {},
   "outputs": [
    {
     "data": {
      "text/plain": [
       "'Avicii'"
      ]
     },
     "execution_count": 10,
     "metadata": {},
     "output_type": "execute_result"
    }
   ],
   "source": [
    "tracks_raw[0]['items'][0]['track']['artists'][0]['name']"
   ]
  },
  {
   "cell_type": "code",
   "execution_count": 13,
   "metadata": {
    "pycharm": {
     "name": "#%%\n"
    }
   },
   "outputs": [
    {
     "name": "stdout",
     "output_type": "stream",
     "text": [
      "619\n"
     ]
    }
   ],
   "source": [
    "track_names = list()\n",
    "for item in tracks_raw:\n",
    "    for track in item['items']:\n",
    "        tmp = dict()\n",
    "        tmp['name'] = track['track']['name']\n",
    "        # tmp['artist'] = track['track']['artists'][0]['name']\n",
    "        artists = [x['name'] for x in track['track']['artists']]\n",
    "        tmp['artists'] = artists \n",
    "        track_names.append(tmp)\n",
    "\n",
    "print(len(track_names))"
   ]
  },
  {
   "cell_type": "code",
   "execution_count": 14,
   "metadata": {},
   "outputs": [
    {
     "name": "stdout",
     "output_type": "stream",
     "text": [
      "{'name': 'Wake Me Up - Radio Edit', 'artists': ['Avicii']}\n"
     ]
    }
   ],
   "source": [
    "print(track_names[0])"
   ]
  },
  {
   "cell_type": "code",
   "execution_count": null,
   "metadata": {},
   "outputs": [],
   "source": [
    "chrome_options.add_argument('--no-proxy-server')\n",
    "these additional options helped me to drastically increase the performance:\n",
    "\n",
    "chrome_options.add_argument(\"--proxy-server='direct://'\");\n",
    "chrome_options.add_argument(\"--proxy-bypass-list=*\");"
   ]
  },
  {
   "cell_type": "code",
   "execution_count": 26,
   "metadata": {
    "pycharm": {
     "name": "#%%\n"
    }
   },
   "outputs": [],
   "source": [
    "options = Options()\n",
    "options.headless = False\n",
    "options.add_argument('--no-proxy-server')\n",
    "options.add_argument(\"--proxy-server='direct://'\")\n",
    "options.add_argument(\"--proxy-bypass-list=*\")\n",
    "driver = webdriver.Chrome(options=options, executable_path=r'E:/Program Files (x86)/Chromedriver/chromedriver.exe')\n",
    "# driver.implicitly_wait(10)\n",
    "driver.get('https://music.amazon.de/search')"
   ]
  },
  {
   "cell_type": "code",
   "execution_count": 27,
   "metadata": {
    "pycharm": {
     "name": "#%%\n"
    }
   },
   "outputs": [],
   "source": [
    "sign_in_button = WebDriverWait(driver, 10).until(\n",
    "        EC.presence_of_element_located((By.ID, 'signInButton'))\n",
    "    )\n",
    "sign_in_button.click()\n",
    "\n",
    "# \"\"\"\n",
    "email_input = driver.find_element_by_name('email')\n",
    "password_input = driver.find_element_by_name('password')\n",
    "submit_button = driver.find_element_by_id('signInSubmit')\n",
    "# \"\"\"\n",
    "\"\"\"\n",
    "email_input = WebDriverWait(driver, 10).until(\n",
    "        EC.presence_of_element_located((By.NAME, 'email'))\n",
    "    )\n",
    "password_input = WebDriverWait(driver, 10).until(\n",
    "        EC.presence_of_element_located((By.NAME, 'password'))\n",
    "    )\n",
    "submit_button = WebDriverWait(driver, 10).until(\n",
    "        EC.presence_of_element_located((By.NAME, 'signInSubmit'))\n",
    "    )\n",
    "    \"\"\"\n",
    "email_input.send_keys('simon.westfechtel@gmail.com')\n",
    "password_input.send_keys('ho9nktdoiPme5SspSQLd')\n",
    "submit_button.click()"
   ]
  },
  {
   "cell_type": "markdown",
   "metadata": {},
   "source": [
    "## Initial round"
   ]
  },
  {
   "cell_type": "code",
   "execution_count": 28,
   "metadata": {},
   "outputs": [],
   "source": [
    "def check_top_result(music_container):\n",
    "    \n",
    "    # check if top search result matches and try to add\n",
    "    # select wrapper for top results\n",
    "    music_container_top = music_container.find_elements_by_tag_name('music-container')[0]\n",
    "    \n",
    "    # select wrapper for top song result\n",
    "    music_horizontal_item_top = music_container_top.find_element_by_tag_name('music-horizontal-item')\n",
    "    \n",
    "    # find shadow root for wrapper\n",
    "    shadow_root_top = driver.execute_script('return arguments[0].shadowRoot', music_horizontal_item_top)\n",
    "    \n",
    "    # find song and artist names\n",
    "    div_center_top = shadow_root_top.find_element_by_class_name('center')\n",
    "    song_name_top = div_center_top.find_element_by_tag_name('a')\n",
    "    span_top = div_center_top.find_element_by_tag_name('span')\n",
    "    artist_top = span_top.find_element_by_tag_name('a')\n",
    "    \n",
    "    # check if (song and) artist names match\n",
    "    # if song['name'] in song_name_top.get_attribute('text') and song['artist'] in artist_top.get_attribute('text'):\n",
    "    # if song['artist'] in artist_top.get_attribute('text'):\n",
    "    if (\n",
    "        any(SequenceMatcher(a=x, b=artist_top.get_attribute('text')).ratio() > 0.75 for x in song['artists'])\n",
    "        or \n",
    "        any(x in artist_top.get_attribute('text') for x in song['artists'])\n",
    "    ):\n",
    "        \n",
    "        # find div to hover\n",
    "        div_top = shadow_root_top.find_element_by_tag_name('div')\n",
    "        builder_top = ActionChains(driver)\n",
    "        builder_top.move_to_element(div_top).perform()\n",
    "\n",
    "        # find button for context menu\n",
    "        WebDriverWait(driver, 10).until(\n",
    "            EC.visibility_of_element_located((By.TAG_NAME, 'music-button'))\n",
    "        )\n",
    "        music_button_top = music_container_top.find_elements_by_tag_name('music-button')[1]\n",
    "        shadow_root_top = driver.execute_script('return arguments[0].shadowRoot', music_button_top)\n",
    "        button_top = shadow_root_top.find_element_by_tag_name('button')\n",
    "        button_top.click()\n",
    "\n",
    "        # find button to add to playlist\n",
    "        add_to_playlist = WebDriverWait(driver, 10).until(\n",
    "            EC.visibility_of_element_located((By.ID, 'contextMenuOption1'))\n",
    "        )\n",
    "        # add_to_playlist = driver.find_element_by_id('contextMenuOption1')\n",
    "        add_to_playlist.click()\n",
    "\n",
    "        playlist = WebDriverWait(driver, 10).until(\n",
    "            EC.element_to_be_clickable((By.CLASS_NAME, 'col1'))\n",
    "        )\n",
    "        playlist.click()\n",
    "        \n",
    "        return True\n",
    "    \n",
    "    return False"
   ]
  },
  {
   "cell_type": "code",
   "execution_count": 29,
   "metadata": {},
   "outputs": [],
   "source": [
    "def check_song_results(music_container):\n",
    "    \n",
    "    # cycle songs for correct result\n",
    "    # find wrapper for song results\n",
    "    music_container = music_container.find_elements_by_tag_name('music-container')[1]\n",
    "    \n",
    "    # find wrappers for songs\n",
    "    music_items = music_container.find_elements_by_tag_name('music-horizontal-item')\n",
    "        \n",
    "    # cycle through song results\n",
    "    for music_item in music_items:\n",
    "        \n",
    "        # find artist name\n",
    "        builder = ActionChains(driver)\n",
    "        shadow_root = driver.execute_script('return arguments[0].shadowRoot', music_item)\n",
    "        center_div = shadow_root.find_element_by_class_name('center')\n",
    "        span = center_div.find_element_by_tag_name('span')\n",
    "        music_link = span.find_element_by_tag_name('music-link')\n",
    "        artist = music_link.find_element_by_tag_name('a')\n",
    "        \n",
    "        # check if artist name matches\n",
    "        # if song['artist'] in artist.get_attribute('text'):\n",
    "        if (\n",
    "            any(SequenceMatcher(a=x, b=artist.get_attribute('text')).ratio() > 0.75 for x in song['artists'])\n",
    "            or \n",
    "            any(x in artist.get_attribute('text') for x in song['artists'])\n",
    "        ):\n",
    "            \n",
    "            div = shadow_root.find_element_by_tag_name('div')\n",
    "            builder.move_to_element(div).perform()\n",
    "\n",
    "            WebDriverWait(music_item, 10).until(\n",
    "                EC.visibility_of_element_located((By.TAG_NAME, 'music-button'))\n",
    "            )\n",
    "            context_button = music_item.find_elements_by_tag_name('music-button')[1]\n",
    "            shadow_root = driver.execute_script('return arguments[0].shadowRoot', context_button)\n",
    "            button = shadow_root.find_element_by_tag_name('button')\n",
    "            button.click()\n",
    "\n",
    "            add_to_playlist = WebDriverWait(driver, 10).until(\n",
    "                EC.visibility_of_element_located((By.ID, 'contextMenuOption1'))\n",
    "            )\n",
    "            # add_to_playlist = driver.find_element_by_id('contextMenuOption1')\n",
    "            add_to_playlist.click()\n",
    "\n",
    "            playlist = WebDriverWait(driver, 10).until(\n",
    "                EC.element_to_be_clickable((By.CLASS_NAME, 'col1'))\n",
    "            )\n",
    "            playlist.click()\n",
    "            \n",
    "            return True\n",
    "        else: \n",
    "            continue\n",
    "\n",
    "    return False"
   ]
  },
  {
   "cell_type": "code",
   "execution_count": 30,
   "metadata": {
    "pycharm": {
     "name": "#%%\n"
    },
    "scrolled": true
   },
   "outputs": [
    {
     "name": "stdout",
     "output_type": "stream",
     "text": [
      "tring to add 20 songs...\n",
      "failed to add song {'name': 'Solace Album Mix', 'artists': ['Monstercat']} due to bad search result\n",
      "failed to add song {'name': 'Stars - Radio Edit', 'artists': ['Vicetone', 'Jonny Rose']} due to bad search result\n",
      "failed to add song {'name': 'Lowdown - Original Mix', 'artists': ['Vicetone']} due to bad search result\n",
      "failed to add song {'name': 'California', 'artists': ['Vicetone']} due to bad search result\n",
      "failed to add song {'name': 'What I Did for Love (feat. Emeli Sandé)', 'artists': ['David Guetta']} due to bad search result\n",
      "added 15 songs (out of 20)\n"
     ]
    }
   ],
   "source": [
    "failed_songs = []\n",
    "i = 0\n",
    "track_names = track_names[:20]\n",
    "print(f\"tring to add {len(track_names)} songs...\")\n",
    "\n",
    "for song in track_names:\n",
    "    try:\n",
    "        driver.get('https://music.amazon.de/search')\n",
    "        \n",
    "        i += 1\n",
    "        if i % 25 == 0:\n",
    "            print(f\"elapsed {i} songs so far\")    \n",
    "        \n",
    "        # Wait for searchbar to appear\n",
    "        navbar_search_input = WebDriverWait(driver, 10).until(\n",
    "            EC.presence_of_element_located((By.ID, 'navbarSearchInput'))\n",
    "        )\n",
    "\n",
    "        # enter song name into searchbar\n",
    "        navbar_search_input.send_keys(song['name'])\n",
    "        navbar_search_input.send_keys(Keys.RETURN)\n",
    "        \n",
    "        # find outer wrapper\n",
    "        music_container = WebDriverWait(driver, 10).until(\n",
    "            EC.visibility_of_element_located((By.TAG_NAME, 'music-container'))\n",
    "        )\n",
    "        # music_container = driver.find_element_by_tag_name('music-container')\n",
    "        \n",
    "        # check top result\n",
    "        try:\n",
    "            if check_top_result(music_container): continue\n",
    "        except Exception as e:\n",
    "            pass\n",
    "            # raise e\n",
    "        \n",
    "        try:\n",
    "            if check_song_results(music_container): continue\n",
    "        except Exception as e:\n",
    "            raise e\n",
    "        \n",
    "        failed_songs.append(song)\n",
    "        print(f\"failed to add song {song} due to bad search result\")\n",
    "        \n",
    "    except Exception as e:\n",
    "        print(f\"failed to add song {song} due to error\")\n",
    "        print(e)\n",
    "        # driver.get('https://music.amazon.de/search')\n",
    "        failed_songs.append(song)\n",
    "        continue\n",
    "        \n",
    "print(f\"added {len(track_names) - len(failed_songs)} songs (out of {len(track_names)})\")\n",
    "# driver.quit()"
   ]
  },
  {
   "cell_type": "code",
   "execution_count": 31,
   "metadata": {},
   "outputs": [],
   "source": [
    "driver.quit()"
   ]
  },
  {
   "cell_type": "markdown",
   "metadata": {},
   "source": [
    "## Tests"
   ]
  },
  {
   "cell_type": "code",
   "execution_count": 38,
   "metadata": {},
   "outputs": [
    {
     "data": {
      "text/plain": [
       "<selenium.webdriver.remote.webelement.WebElement (session=\"376ab7599c3380a5270842165602795b\", element=\"0ca570d8-0f79-43d2-b0ac-d470a9a24ad7\")>"
      ]
     },
     "execution_count": 38,
     "metadata": {},
     "output_type": "execute_result"
    }
   ],
   "source": [
    "playlist"
   ]
  },
  {
   "cell_type": "code",
   "execution_count": 58,
   "metadata": {},
   "outputs": [],
   "source": [
    "navbar_search_input.send_keys(song['name'])\n",
    "navbar_search_input.send_keys(Keys.RETURN)\n",
    "\n",
    "# time.sleep(1)\n",
    "        \n",
    "# find outer wrapper\n",
    "WebDriverWait(driver, 10).until(\n",
    "    EC.visibility_of_element_located((By.TAG_NAME, 'music-container'))\n",
    ")\n",
    "music_container = driver.find_element_by_tag_name('music-container')"
   ]
  },
  {
   "cell_type": "markdown",
   "metadata": {},
   "source": [
    "### Work flow"
   ]
  },
  {
   "cell_type": "code",
   "execution_count": 3,
   "metadata": {},
   "outputs": [],
   "source": [
    "music_container = driver.find_element_by_tag_name('music-container')"
   ]
  },
  {
   "cell_type": "code",
   "execution_count": 4,
   "metadata": {},
   "outputs": [],
   "source": [
    "music_container = music_container.find_elements_by_tag_name('music-container')[1]"
   ]
  },
  {
   "cell_type": "code",
   "execution_count": 5,
   "metadata": {},
   "outputs": [],
   "source": [
    "music_items = music_container.find_elements_by_tag_name('music-horizontal-item')"
   ]
  },
  {
   "cell_type": "code",
   "execution_count": 6,
   "metadata": {},
   "outputs": [],
   "source": [
    "music_item = music_items[0]"
   ]
  },
  {
   "cell_type": "code",
   "execution_count": 7,
   "metadata": {},
   "outputs": [],
   "source": [
    "builder = ActionChains(driver)"
   ]
  },
  {
   "cell_type": "code",
   "execution_count": 9,
   "metadata": {},
   "outputs": [],
   "source": [
    "shadow_root = driver.execute_script('return arguments[0].shadowRoot.children', music_item)[0]"
   ]
  },
  {
   "cell_type": "code",
   "execution_count": 11,
   "metadata": {},
   "outputs": [
    {
     "data": {
      "text/plain": [
       "<selenium.webdriver.firefox.webelement.FirefoxWebElement (session=\"51055d21-9f32-46f8-9c76-3fa2d6f7ca0a\", element=\"fb78e08c-881c-40e1-bf31-933893b400c1\")>"
      ]
     },
     "execution_count": 11,
     "metadata": {},
     "output_type": "execute_result"
    }
   ],
   "source": [
    "shadow_root"
   ]
  },
  {
   "cell_type": "code",
   "execution_count": 10,
   "metadata": {},
   "outputs": [
    {
     "ename": "NoSuchElementException",
     "evalue": "Message: Unable to locate element: .center\n",
     "output_type": "error",
     "traceback": [
      "\u001B[1;31m---------------------------------------------------------------------------\u001B[0m",
      "\u001B[1;31mNoSuchElementException\u001B[0m                    Traceback (most recent call last)",
      "\u001B[1;32m<ipython-input-10-94d6b630952e>\u001B[0m in \u001B[0;36m<module>\u001B[1;34m\u001B[0m\n\u001B[1;32m----> 1\u001B[1;33m \u001B[0mcenter_div\u001B[0m \u001B[1;33m=\u001B[0m \u001B[0mshadow_root\u001B[0m\u001B[1;33m.\u001B[0m\u001B[0mfind_element_by_class_name\u001B[0m\u001B[1;33m(\u001B[0m\u001B[1;34m'center'\u001B[0m\u001B[1;33m)\u001B[0m\u001B[1;33m\u001B[0m\u001B[1;33m\u001B[0m\u001B[0m\n\u001B[0m",
      "\u001B[1;32m~\\.conda\\envs\\spotifytransfer\\lib\\site-packages\\selenium\\webdriver\\remote\\webelement.py\u001B[0m in \u001B[0;36mfind_element_by_class_name\u001B[1;34m(self, name)\u001B[0m\n\u001B[0;32m    396\u001B[0m             \u001B[0melement\u001B[0m \u001B[1;33m=\u001B[0m \u001B[0melement\u001B[0m\u001B[1;33m.\u001B[0m\u001B[0mfind_element_by_class_name\u001B[0m\u001B[1;33m(\u001B[0m\u001B[1;34m'foo'\u001B[0m\u001B[1;33m)\u001B[0m\u001B[1;33m\u001B[0m\u001B[1;33m\u001B[0m\u001B[0m\n\u001B[0;32m    397\u001B[0m         \"\"\"\n\u001B[1;32m--> 398\u001B[1;33m         \u001B[1;32mreturn\u001B[0m \u001B[0mself\u001B[0m\u001B[1;33m.\u001B[0m\u001B[0mfind_element\u001B[0m\u001B[1;33m(\u001B[0m\u001B[0mby\u001B[0m\u001B[1;33m=\u001B[0m\u001B[0mBy\u001B[0m\u001B[1;33m.\u001B[0m\u001B[0mCLASS_NAME\u001B[0m\u001B[1;33m,\u001B[0m \u001B[0mvalue\u001B[0m\u001B[1;33m=\u001B[0m\u001B[0mname\u001B[0m\u001B[1;33m)\u001B[0m\u001B[1;33m\u001B[0m\u001B[1;33m\u001B[0m\u001B[0m\n\u001B[0m\u001B[0;32m    399\u001B[0m \u001B[1;33m\u001B[0m\u001B[0m\n\u001B[0;32m    400\u001B[0m     \u001B[1;32mdef\u001B[0m \u001B[0mfind_elements_by_class_name\u001B[0m\u001B[1;33m(\u001B[0m\u001B[0mself\u001B[0m\u001B[1;33m,\u001B[0m \u001B[0mname\u001B[0m\u001B[1;33m)\u001B[0m\u001B[1;33m:\u001B[0m\u001B[1;33m\u001B[0m\u001B[1;33m\u001B[0m\u001B[0m\n",
      "\u001B[1;32m~\\.conda\\envs\\spotifytransfer\\lib\\site-packages\\selenium\\webdriver\\remote\\webelement.py\u001B[0m in \u001B[0;36mfind_element\u001B[1;34m(self, by, value)\u001B[0m\n\u001B[0;32m    656\u001B[0m                 \u001B[0mvalue\u001B[0m \u001B[1;33m=\u001B[0m \u001B[1;34m'[name=\"%s\"]'\u001B[0m \u001B[1;33m%\u001B[0m \u001B[0mvalue\u001B[0m\u001B[1;33m\u001B[0m\u001B[1;33m\u001B[0m\u001B[0m\n\u001B[0;32m    657\u001B[0m \u001B[1;33m\u001B[0m\u001B[0m\n\u001B[1;32m--> 658\u001B[1;33m         return self._execute(Command.FIND_CHILD_ELEMENT,\n\u001B[0m\u001B[0;32m    659\u001B[0m                              {\"using\": by, \"value\": value})['value']\n\u001B[0;32m    660\u001B[0m \u001B[1;33m\u001B[0m\u001B[0m\n",
      "\u001B[1;32m~\\.conda\\envs\\spotifytransfer\\lib\\site-packages\\selenium\\webdriver\\remote\\webelement.py\u001B[0m in \u001B[0;36m_execute\u001B[1;34m(self, command, params)\u001B[0m\n\u001B[0;32m    631\u001B[0m             \u001B[0mparams\u001B[0m \u001B[1;33m=\u001B[0m \u001B[1;33m{\u001B[0m\u001B[1;33m}\u001B[0m\u001B[1;33m\u001B[0m\u001B[1;33m\u001B[0m\u001B[0m\n\u001B[0;32m    632\u001B[0m         \u001B[0mparams\u001B[0m\u001B[1;33m[\u001B[0m\u001B[1;34m'id'\u001B[0m\u001B[1;33m]\u001B[0m \u001B[1;33m=\u001B[0m \u001B[0mself\u001B[0m\u001B[1;33m.\u001B[0m\u001B[0m_id\u001B[0m\u001B[1;33m\u001B[0m\u001B[1;33m\u001B[0m\u001B[0m\n\u001B[1;32m--> 633\u001B[1;33m         \u001B[1;32mreturn\u001B[0m \u001B[0mself\u001B[0m\u001B[1;33m.\u001B[0m\u001B[0m_parent\u001B[0m\u001B[1;33m.\u001B[0m\u001B[0mexecute\u001B[0m\u001B[1;33m(\u001B[0m\u001B[0mcommand\u001B[0m\u001B[1;33m,\u001B[0m \u001B[0mparams\u001B[0m\u001B[1;33m)\u001B[0m\u001B[1;33m\u001B[0m\u001B[1;33m\u001B[0m\u001B[0m\n\u001B[0m\u001B[0;32m    634\u001B[0m \u001B[1;33m\u001B[0m\u001B[0m\n\u001B[0;32m    635\u001B[0m     \u001B[1;32mdef\u001B[0m \u001B[0mfind_element\u001B[0m\u001B[1;33m(\u001B[0m\u001B[0mself\u001B[0m\u001B[1;33m,\u001B[0m \u001B[0mby\u001B[0m\u001B[1;33m=\u001B[0m\u001B[0mBy\u001B[0m\u001B[1;33m.\u001B[0m\u001B[0mID\u001B[0m\u001B[1;33m,\u001B[0m \u001B[0mvalue\u001B[0m\u001B[1;33m=\u001B[0m\u001B[1;32mNone\u001B[0m\u001B[1;33m)\u001B[0m\u001B[1;33m:\u001B[0m\u001B[1;33m\u001B[0m\u001B[1;33m\u001B[0m\u001B[0m\n",
      "\u001B[1;32m~\\.conda\\envs\\spotifytransfer\\lib\\site-packages\\selenium\\webdriver\\remote\\webdriver.py\u001B[0m in \u001B[0;36mexecute\u001B[1;34m(self, driver_command, params)\u001B[0m\n\u001B[0;32m    319\u001B[0m         \u001B[0mresponse\u001B[0m \u001B[1;33m=\u001B[0m \u001B[0mself\u001B[0m\u001B[1;33m.\u001B[0m\u001B[0mcommand_executor\u001B[0m\u001B[1;33m.\u001B[0m\u001B[0mexecute\u001B[0m\u001B[1;33m(\u001B[0m\u001B[0mdriver_command\u001B[0m\u001B[1;33m,\u001B[0m \u001B[0mparams\u001B[0m\u001B[1;33m)\u001B[0m\u001B[1;33m\u001B[0m\u001B[1;33m\u001B[0m\u001B[0m\n\u001B[0;32m    320\u001B[0m         \u001B[1;32mif\u001B[0m \u001B[0mresponse\u001B[0m\u001B[1;33m:\u001B[0m\u001B[1;33m\u001B[0m\u001B[1;33m\u001B[0m\u001B[0m\n\u001B[1;32m--> 321\u001B[1;33m             \u001B[0mself\u001B[0m\u001B[1;33m.\u001B[0m\u001B[0merror_handler\u001B[0m\u001B[1;33m.\u001B[0m\u001B[0mcheck_response\u001B[0m\u001B[1;33m(\u001B[0m\u001B[0mresponse\u001B[0m\u001B[1;33m)\u001B[0m\u001B[1;33m\u001B[0m\u001B[1;33m\u001B[0m\u001B[0m\n\u001B[0m\u001B[0;32m    322\u001B[0m             response['value'] = self._unwrap_value(\n\u001B[0;32m    323\u001B[0m                 response.get('value', None))\n",
      "\u001B[1;32m~\\.conda\\envs\\spotifytransfer\\lib\\site-packages\\selenium\\webdriver\\remote\\errorhandler.py\u001B[0m in \u001B[0;36mcheck_response\u001B[1;34m(self, response)\u001B[0m\n\u001B[0;32m    240\u001B[0m                 \u001B[0malert_text\u001B[0m \u001B[1;33m=\u001B[0m \u001B[0mvalue\u001B[0m\u001B[1;33m[\u001B[0m\u001B[1;34m'alert'\u001B[0m\u001B[1;33m]\u001B[0m\u001B[1;33m.\u001B[0m\u001B[0mget\u001B[0m\u001B[1;33m(\u001B[0m\u001B[1;34m'text'\u001B[0m\u001B[1;33m)\u001B[0m\u001B[1;33m\u001B[0m\u001B[1;33m\u001B[0m\u001B[0m\n\u001B[0;32m    241\u001B[0m             \u001B[1;32mraise\u001B[0m \u001B[0mexception_class\u001B[0m\u001B[1;33m(\u001B[0m\u001B[0mmessage\u001B[0m\u001B[1;33m,\u001B[0m \u001B[0mscreen\u001B[0m\u001B[1;33m,\u001B[0m \u001B[0mstacktrace\u001B[0m\u001B[1;33m,\u001B[0m \u001B[0malert_text\u001B[0m\u001B[1;33m)\u001B[0m\u001B[1;33m\u001B[0m\u001B[1;33m\u001B[0m\u001B[0m\n\u001B[1;32m--> 242\u001B[1;33m         \u001B[1;32mraise\u001B[0m \u001B[0mexception_class\u001B[0m\u001B[1;33m(\u001B[0m\u001B[0mmessage\u001B[0m\u001B[1;33m,\u001B[0m \u001B[0mscreen\u001B[0m\u001B[1;33m,\u001B[0m \u001B[0mstacktrace\u001B[0m\u001B[1;33m)\u001B[0m\u001B[1;33m\u001B[0m\u001B[1;33m\u001B[0m\u001B[0m\n\u001B[0m\u001B[0;32m    243\u001B[0m \u001B[1;33m\u001B[0m\u001B[0m\n\u001B[0;32m    244\u001B[0m     \u001B[1;32mdef\u001B[0m \u001B[0m_value_or_default\u001B[0m\u001B[1;33m(\u001B[0m\u001B[0mself\u001B[0m\u001B[1;33m,\u001B[0m \u001B[0mobj\u001B[0m\u001B[1;33m,\u001B[0m \u001B[0mkey\u001B[0m\u001B[1;33m,\u001B[0m \u001B[0mdefault\u001B[0m\u001B[1;33m)\u001B[0m\u001B[1;33m:\u001B[0m\u001B[1;33m\u001B[0m\u001B[1;33m\u001B[0m\u001B[0m\n",
      "\u001B[1;31mNoSuchElementException\u001B[0m: Message: Unable to locate element: .center\n"
     ]
    }
   ],
   "source": [
    "center_div = shadow_root.find_element_by_class_name('center')"
   ]
  },
  {
   "cell_type": "code",
   "execution_count": 80,
   "metadata": {},
   "outputs": [],
   "source": [
    "span = center_div.find_element_by_tag_name('span')"
   ]
  },
  {
   "cell_type": "code",
   "execution_count": 81,
   "metadata": {},
   "outputs": [],
   "source": [
    "music_link = span.find_element_by_tag_name('music-link')"
   ]
  },
  {
   "cell_type": "code",
   "execution_count": 82,
   "metadata": {},
   "outputs": [],
   "source": [
    "artist = music_link.find_element_by_tag_name('a') "
   ]
  },
  {
   "cell_type": "code",
   "execution_count": 100,
   "metadata": {},
   "outputs": [
    {
     "data": {
      "text/plain": [
       "False"
      ]
     },
     "execution_count": 100,
     "metadata": {},
     "output_type": "execute_result"
    }
   ],
   "source": [
    "track_names[0]['artist'] in artist.get_attribute('text')"
   ]
  },
  {
   "cell_type": "code",
   "execution_count": 84,
   "metadata": {},
   "outputs": [],
   "source": [
    "div = shadow_root.find_element_by_tag_name('div')"
   ]
  },
  {
   "cell_type": "code",
   "execution_count": 85,
   "metadata": {},
   "outputs": [],
   "source": [
    "builder.move_to_element(div).perform()"
   ]
  },
  {
   "cell_type": "code",
   "execution_count": 86,
   "metadata": {},
   "outputs": [],
   "source": [
    "context_button = music_item.find_elements_by_tag_name('music-button')[1]"
   ]
  },
  {
   "cell_type": "code",
   "execution_count": 87,
   "metadata": {},
   "outputs": [],
   "source": [
    "shadow_root = driver.execute_script('return arguments[0].shadowRoot', context_button)"
   ]
  },
  {
   "cell_type": "code",
   "execution_count": 88,
   "metadata": {},
   "outputs": [],
   "source": [
    "button = shadow_root.find_element_by_tag_name('button')"
   ]
  },
  {
   "cell_type": "code",
   "execution_count": 89,
   "metadata": {},
   "outputs": [],
   "source": [
    "button.click()"
   ]
  },
  {
   "cell_type": "code",
   "execution_count": 90,
   "metadata": {},
   "outputs": [],
   "source": [
    "add_to_playlist = driver.find_element_by_id('contextMenuOption1')"
   ]
  },
  {
   "cell_type": "code",
   "execution_count": 91,
   "metadata": {},
   "outputs": [],
   "source": [
    "add_to_playlist.click()"
   ]
  },
  {
   "cell_type": "code",
   "execution_count": 32,
   "metadata": {},
   "outputs": [],
   "source": [
    "playlist = driver.find_element_by_class_name('col1')"
   ]
  },
  {
   "cell_type": "code",
   "execution_count": 33,
   "metadata": {},
   "outputs": [],
   "source": [
    "span = playlist.find_element_by_tag_name('span')"
   ]
  },
  {
   "cell_type": "code",
   "execution_count": 34,
   "metadata": {},
   "outputs": [],
   "source": [
    "span.click()"
   ]
  },
  {
   "cell_type": "code",
   "execution_count": 124,
   "metadata": {},
   "outputs": [],
   "source": [
    "playlist.click()"
   ]
  },
  {
   "cell_type": "code",
   "execution_count": 108,
   "metadata": {},
   "outputs": [],
   "source": [
    "music_container = driver.find_element_by_tag_name('music-container')\n",
    "music_container_top = music_container.find_elements_by_tag_name('music-container')[0]\n",
    "music_horizontal_item_top = music_container_top.find_element_by_tag_name('music-horizontal-item')\n",
    "shadow_root_top = driver.execute_script('return arguments[0].shadowRoot', music_horizontal_item_top)\n",
    "div_center_top = shadow_root_top.find_element_by_class_name('center')\n",
    "song_name_top = div_center_top.find_element_by_tag_name('a')\n",
    "span_top = div_center_top.find_element_by_tag_name('span')\n",
    "artist_top = span_top.find_element_by_tag_name('a')\n",
    "if 'Kiss Me' in song_name_top.get_attribute('text') and 'Rea Garvey' in artist_top.get_attribute('text'):\n",
    "    div_top = shadow_root_top.find_element_by_tag_name('div')\n",
    "    builder_top = ActionChains(driver)\n",
    "    builder_top.move_to_element(div_top).perform()\n",
    "    time.sleep(0.5)\n",
    "    music_button_top = music_container_top.find_elements_by_tag_name('music-button')[1]\n",
    "    shadow_root_top = driver.execute_script('return arguments[0].shadowRoot', music_button_top)\n",
    "    button_top = shadow_root_top.find_element_by_tag_name('button')\n",
    "    button_top.click()\n",
    "    time.sleep(0.5)\n",
    "    add_to_playlist = driver.find_element_by_id('contextMenuOption1')\n",
    "    add_to_playlist.click()\n",
    "else:\n",
    "    print('fail')"
   ]
  },
  {
   "cell_type": "markdown",
   "metadata": {},
   "source": [
    "### Work flow combined"
   ]
  },
  {
   "cell_type": "code",
   "execution_count": null,
   "metadata": {},
   "outputs": [],
   "source": [
    "music_container = driver.find_element_by_tag_name('music-container')\n",
    "music_container = music_container.find_elements_by_tag_name('music-container')[1]\n",
    "music_items = music_container.find_elements_by_tag_name('music-horizontal-item')\n",
    "\n",
    "for music_item in music_items:\n",
    "    builder = ActionChains(driver)\n",
    "    shadow_root = driver.execute_script('return arguments[0].shadowRoot', music_item)\n",
    "    center_div = shadow_root.find_element_by_class_name('center')\n",
    "    span = center_div.find_element_by_tag_name('span')\n",
    "    music_link = span.find_element_by_tag_name('music-link')\n",
    "    artist = music_link.find_element_by_tag_name('a')\n",
    "    if artist.get_attribute('text') == r'\\w':\n",
    "        div = shadow_root.find_element_by_tag_name('div')\n",
    "        builder.move_to_element(div).perform()\n",
    "        context_button = music_item.find_elements_by_tag_name('music-button')[1]\n",
    "        shadow_root = driver.execute_script('return arguments[0].shadowRoot', context_button)\n",
    "        button = shadow_root.find_element_by_tag_name('button')\n",
    "        button.click()\n",
    "        add_to_playlist = driver.find_element_by_id('contextMenuOption1')\n",
    "        add_to_playlist.click()\n",
    "        playlist = driver.find_element_by_class_name('col1')\n",
    "        playlist.click()\n",
    "        break\n",
    "    else: \n",
    "        continue\n",
    "else:\n",
    "    raise Exception(f'failed to add song {song}')"
   ]
  },
  {
   "cell_type": "code",
   "execution_count": 150,
   "metadata": {},
   "outputs": [
    {
     "data": {
      "text/plain": [
       "0"
      ]
     },
     "execution_count": 150,
     "metadata": {},
     "output_type": "execute_result"
    }
   ],
   "source": [
    "200 % 100"
   ]
  },
  {
   "cell_type": "code",
   "execution_count": 152,
   "metadata": {},
   "outputs": [
    {
     "data": {
      "text/plain": [
       "185"
      ]
     },
     "execution_count": 152,
     "metadata": {},
     "output_type": "execute_result"
    }
   ],
   "source": [
    "len(failed_songs)"
   ]
  },
  {
   "cell_type": "code",
   "execution_count": 153,
   "metadata": {},
   "outputs": [],
   "source": [
    "import pickle"
   ]
  },
  {
   "cell_type": "code",
   "execution_count": 154,
   "metadata": {},
   "outputs": [],
   "source": [
    "with open('outfile', 'wb') as fp:\n",
    "    pickle.dump(failed_songs, fp)"
   ]
  },
  {
   "cell_type": "code",
   "execution_count": null,
   "metadata": {},
   "outputs": [],
   "source": [
    "with open ('outfile', 'rb') as fp:\n",
    "    itemlist = pickle.load(fp)"
   ]
  },
  {
   "cell_type": "code",
   "execution_count": 25,
   "metadata": {},
   "outputs": [
    {
     "name": "stdout",
     "output_type": "stream",
     "text": [
      "True\n"
     ]
    }
   ],
   "source": [
    "if any(SequenceMatcher(a=x, b='Avicii').ratio() > 0.75 for x in track_names[0]['artists']):\n",
    "    print(True)"
   ]
  },
  {
   "cell_type": "code",
   "execution_count": 24,
   "metadata": {},
   "outputs": [
    {
     "name": "stdout",
     "output_type": "stream",
     "text": [
      "Avicii\n",
      "1.0\n"
     ]
    }
   ],
   "source": [
    "for artist in track_names[0]['artists']:\n",
    "    print(artist)\n",
    "    print(SequenceMatcher(a=artist, b='Avicii').ratio())"
   ]
  },
  {
   "cell_type": "code",
   "execution_count": 2,
   "metadata": {},
   "outputs": [],
   "source": [
    "driver = webdriver.Firefox(executable_path=r'E:/Program Files (x86)/Webdriver/geckodriver.exe')\n",
    "driver.get('https://music.amazon.de/search')"
   ]
  },
  {
   "cell_type": "code",
   "execution_count": null,
   "metadata": {},
   "outputs": [],
   "source": []
  }
 ],
 "metadata": {
  "kernelspec": {
   "display_name": "Python 3",
   "language": "python",
   "name": "python3"
  },
  "language_info": {
   "codemirror_mode": {
    "name": "ipython",
    "version": 3
   },
   "file_extension": ".py",
   "mimetype": "text/x-python",
   "name": "python",
   "nbconvert_exporter": "python",
   "pygments_lexer": "ipython3",
   "version": "3.8.5"
  }
 },
 "nbformat": 4,
 "nbformat_minor": 1
}