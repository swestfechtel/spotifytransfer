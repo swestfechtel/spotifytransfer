{
 "cells": [
  {
   "cell_type": "code",
   "execution_count": 1,
   "metadata": {},
   "outputs": [],
   "source": [
    "import csv\n",
    "import signal\n",
    "import ssl\n",
    "import time\n",
    "from multiprocessing import Pool, cpu_count, Value, Lock\n",
    "from os import getpid, kill\n",
    "import OpenSSL\n",
    "import requests\n",
    "from urllib3 import exceptions\n",
    "import base64\n",
    "from selenium import webdriver\n",
    "from selenium.webdriver.common.keys import Keys\n",
    "from selenium.webdriver.common.action_chains import ActionChains\n",
    "from selenium.webdriver.common.by import By\n",
    "from selenium.webdriver.support.ui import WebDriverWait\n",
    "from selenium.webdriver.support import expected_conditions as EC\n",
    "from selenium.common.exceptions import NoSuchElementException\n",
    "from selenium.webdriver.chrome.options import Options"
   ]
  },
  {
   "cell_type": "code",
   "execution_count": 2,
   "metadata": {
    "pycharm": {
     "name": "#%%\n"
    }
   },
   "outputs": [],
   "source": [
    "client_id = '9c7dc5330ca142a691fd0959682d0761'\n",
    "client_secret = '5ff88db8af1d4b1f97828479a33b5c1e'"
   ]
  },
  {
   "cell_type": "code",
   "execution_count": 3,
   "metadata": {
    "pycharm": {
     "name": "#%%\n"
    }
   },
   "outputs": [],
   "source": [
    "def get_auth_token():\n",
    "    tmp = client_id + ':' + client_secret\n",
    "    tmp = tmp.encode('ascii')\n",
    "    base64_code = base64.b64encode(tmp)\n",
    "    base64_code = base64_code.decode('ascii')\n",
    "    try:\n",
    "        url = 'https://accounts.spotify.com/api/token'\n",
    "        request = requests.post(url=url, headers={'Authorization': 'Basic ' + str(base64_code)}, data={'grant_type': 'client_credentials'})\n",
    "    except OpenSSL.SSL.SysCallError as e:\n",
    "        print(e)\n",
    "        return None\n",
    "    except ssl.SSLError as e:\n",
    "        print(e)\n",
    "        return None\n",
    "    except exceptions.MaxRetryError as e:\n",
    "        print(e)\n",
    "        return None\n",
    "    except requests.exceptions.SSLError as e:\n",
    "        print(e)\n",
    "        return None\n",
    "    except:\n",
    "        print(\"Unknown error. Unable to get further information.\")\n",
    "        return None\n",
    "\n",
    "    data = request.json()\n",
    "    return data['access_token'], data['expires_in']"
   ]
  },
  {
   "cell_type": "code",
   "execution_count": 4,
   "metadata": {
    "pycharm": {
     "name": "#%%\n"
    }
   },
   "outputs": [],
   "source": [
    "def fetch_playlists(authorization):\n",
    "    try:\n",
    "        url = 'https://api.spotify.com/v1/users/gangstarappa/playlists'\n",
    "        request = requests.get(url=url, headers={'Authorization': 'Bearer ' + authorization})\n",
    "    except OpenSSL.SSL.SysCallError as e:\n",
    "        print(e)\n",
    "        return None\n",
    "    except ssl.SSLError as e:\n",
    "        print(e)\n",
    "        return None\n",
    "    except exceptions.MaxRetryError as e:\n",
    "        print(e)\n",
    "        return None\n",
    "    except requests.exceptions.SSLError as e:\n",
    "        print(e)\n",
    "        return None\n",
    "    except:\n",
    "        print(\"Unknown error. Unable to get further information.\")\n",
    "        return None\n",
    "\n",
    "    data = request.json()\n",
    "    return data"
   ]
  },
  {
   "cell_type": "code",
   "execution_count": 5,
   "metadata": {
    "pycharm": {
     "name": "#%%\n"
    }
   },
   "outputs": [],
   "source": [
    "def fetch_playlist(authorization, playlist_id):\n",
    "    ret = list()\n",
    "    try:\n",
    "        offset = 0\n",
    "        for i in range(10):\n",
    "            url = 'https://api.spotify.com/v1/playlists/' + playlist_id + '/tracks'\n",
    "            request = requests.get(url=url, headers={'Authorization': 'Bearer ' + authorization}, params={'offset': str(offset)})\n",
    "            while request.status_code != 200:\n",
    "                if request.status_code == 429:\n",
    "                    retry = int(request.headers['Retry-After']) + 1\n",
    "                    print(f\"Process {getpid()}: Response code {request.status_code}. Retrying in {retry}s..\")\n",
    "                    time.sleep(retry)\n",
    "                    request = requests.get(url=url, headers={'Authorization': 'Bearer ' + authorization}, params={'offset': str(offset)})\n",
    "                elif request.status_code == 403:\n",
    "                    print(f\"Process {getpid()}: Response code {request.status_code}. Killing process.\")\n",
    "                    kill(getpid(), signal.SIGTERM)\n",
    "                    return None\n",
    "                else:\n",
    "                    print(f\"Response code {request.status_code}. Ending query chain.\")\n",
    "                    return None\n",
    "\n",
    "            offset += 100\n",
    "            data = request.json()\n",
    "            # print(data)\n",
    "            ret.append(data)\n",
    "    except OpenSSL.SSL.SysCallError as e:\n",
    "        print(e)\n",
    "        return None\n",
    "    except ssl.SSLError as e:\n",
    "        print(e)\n",
    "        return None\n",
    "    except exceptions.MaxRetryError as e:\n",
    "        print(e)\n",
    "        return None\n",
    "    except requests.exceptions.SSLError as e:\n",
    "        print(e)\n",
    "        return None\n",
    "    except:\n",
    "        print(\"Unknown error. Unable to get further information.\")\n",
    "        return None\n",
    "\n",
    "    return ret"
   ]
  },
  {
   "cell_type": "code",
   "execution_count": 143,
   "metadata": {
    "pycharm": {
     "name": "#%%\n"
    }
   },
   "outputs": [],
   "source": [
    "access_token, expires_in = get_auth_token()"
   ]
  },
  {
   "cell_type": "code",
   "execution_count": 144,
   "metadata": {
    "pycharm": {
     "name": "#%%\n"
    }
   },
   "outputs": [],
   "source": [
    "playlists_raw = fetch_playlists(access_token)"
   ]
  },
  {
   "cell_type": "code",
   "execution_count": 145,
   "metadata": {
    "pycharm": {
     "name": "#%%\n"
    }
   },
   "outputs": [],
   "source": [
    "playlists = dict()\n",
    "for playlist in playlists_raw['items']:\n",
    "    playlists[playlist['name']] = playlist['id']"
   ]
  },
  {
   "cell_type": "code",
   "execution_count": 146,
   "metadata": {
    "pycharm": {
     "name": "#%%\n"
    }
   },
   "outputs": [],
   "source": [
    "\n",
    "tracks_raw = fetch_playlist(access_token, playlists['#EDMParty'])"
   ]
  },
  {
   "cell_type": "code",
   "execution_count": 147,
   "metadata": {
    "pycharm": {
     "name": "#%%\n"
    }
   },
   "outputs": [
    {
     "name": "stdout",
     "output_type": "stream",
     "text": [
      "618\n"
     ]
    }
   ],
   "source": [
    "track_names = list()\n",
    "for item in tracks_raw:\n",
    "    for track in item['items']:\n",
    "        track_names.append(track['track']['name'])\n",
    "\n",
    "print(len(track_names))"
   ]
  },
  {
   "cell_type": "code",
   "execution_count": 148,
   "metadata": {
    "pycharm": {
     "name": "#%%\n"
    }
   },
   "outputs": [],
   "source": [
    "options = Options()\n",
    "options.headless = True\n",
    "driver = webdriver.Chrome(options=options, executable_path=r'E:/Program Files (x86)/Chromedriver/chromedriver.exe')\n",
    "driver.get('https://music.amazon.de/search')"
   ]
  },
  {
   "cell_type": "code",
   "execution_count": 149,
   "metadata": {
    "pycharm": {
     "name": "#%%\n"
    }
   },
   "outputs": [],
   "source": [
    "sign_in_button = WebDriverWait(driver, 10).until(\n",
    "        EC.presence_of_element_located((By.ID, 'signInButton'))\n",
    "    )\n",
    "sign_in_button.click()\n",
    "\n",
    "# \"\"\"\n",
    "email_input = driver.find_element_by_name('email')\n",
    "password_input = driver.find_element_by_name('password')\n",
    "submit_button = driver.find_element_by_id('signInSubmit')\n",
    "# \"\"\"\n",
    "\"\"\"\n",
    "email_input = WebDriverWait(driver, 10).until(\n",
    "        EC.presence_of_element_located((By.NAME, 'email'))\n",
    "    )\n",
    "password_input = WebDriverWait(driver, 10).until(\n",
    "        EC.presence_of_element_located((By.NAME, 'password'))\n",
    "    )\n",
    "submit_button = WebDriverWait(driver, 10).until(\n",
    "        EC.presence_of_element_located((By.NAME, 'signInSubmit'))\n",
    "    )\n",
    "    \"\"\"\n",
    "email_input.send_keys('simon.westfechtel@gmail.com')\n",
    "password_input.send_keys('ho9nktdoiPme5SspSQLd')\n",
    "submit_button.click()"
   ]
  },
  {
   "cell_type": "markdown",
   "metadata": {},
   "source": [
    "## Initial round"
   ]
  },
  {
   "cell_type": "code",
   "execution_count": 151,
   "metadata": {
    "pycharm": {
     "name": "#%%\n"
    },
    "scrolled": true
   },
   "outputs": [
    {
     "name": "stdout",
     "output_type": "stream",
     "text": [
      "tring to add 618 songs...\n",
      "failed to add song Solace Album Mix\n",
      "failed to add song Adrenalized - Original Radio Mix\n",
      "failed to add song Dancing in London - David May Original Mix\n",
      "failed to add song Angels (feat. Kat Nestel) - Radio Edit\n",
      "failed to add song The Nights\n",
      "failed to add song Get Up (Rattle) - Radio Mix\n",
      "failed to add song Drvgs (feat. Hayley Gene)\n",
      "failed to add song Find Tomorrow (Ocarina) (feat. Wolfpack & Katy B) - Radio Edit\n",
      "failed to add song Alive\n",
      "failed to add song L'Amour Toujours - Tiësto Edit\n",
      "failed to add song Animal (feat. U-Jean) - Video Edit\n",
      "failed to add song +1 - Radio Edit\n",
      "failed to add song Higher\n",
      "failed to add song Fall Out (Airbeat One Anthem 2015)\n",
      "failed to add song Catch Me\n",
      "failed to add song Jefrome - Unity vs Afrojack & Steve Aoki - No Beef (Jefrome Mashup)\n",
      "failed to add song Bazaar (Official Sunburn Goa 2015 Anthem)\n",
      "failed to add song The Nameless\n",
      "failed to add song Ghosts - Courtland & EKG Remix\n",
      "failed to add song Playades - Radio Eidt\n",
      "failed to add song I Need You feat. Amanda Wilson (East Freaks Remix)\n",
      "failed to add song Changed The Way You Kiss Me - Mike Candys Remix – Radio Edit\n",
      "failed to add song Signals\n",
      "failed to add song Can You Hear The Night\n",
      "failed to add song Show Me Love - Radio Edit\n",
      "failed to add song Dancing Lorea\n",
      "failed to add song Welcome to the Dancefloor - Video Edit\n",
      "failed to add song Zyzz - Original Mix\n",
      "failed to add song The Riddle Anthem - Jack Holiday & Mike Candys Festival Remix\n",
      "failed to add song My Heart\n",
      "failed to add song You\n",
      "failed to add song Apologize - Bodybangers Edit\n",
      "failed to add song Theme O\n",
      "failed to add song Galaxy\n",
      "failed to add song Strike (Original Mix)\n",
      "failed to add song Always - Strong R. Mix\n",
      "failed to add song Beyond\n",
      "failed to add song Seven\n",
      "failed to add song Vice\n",
      "failed to add song Kundalini\n",
      "failed to add song Lucky L - Radio Edit\n",
      "failed to add song Nevada (feat. Cozi Zuehlsdorff)\n",
      "failed to add song Close Your Eyes (Official Parookaville Festival Anthem) - Original Mix\n",
      "failed to add song Far From Home\n",
      "failed to add song Press.Play.Jump - Radio Edit\n",
      "failed to add song Moirai\n",
      "failed to add song Pirates\n",
      "failed to add song In My Arms\n",
      "failed to add song On Fire\n",
      "failed to add song You Could Be Happy - Paul Oakenfold Future House Mix\n",
      "failed to add song Nova\n",
      "failed to add song Last Resort (Djs from Mars Human Radio Edit)\n",
      "failed to add song Unattainable (feat. Puck Cyson) - Radio Edit\n",
      "elapsed 100 songs so far\n",
      "failed to add song 12 Inch - Picco Edit\n",
      "failed to add song Stay\n",
      "failed to add song Pyramids - Radio Mix\n",
      "failed to add song How We Party - Original Mix\n",
      "failed to add song Go\n",
      "failed to add song Stars\n",
      "failed to add song No Heroes (feat. Luciana) - Original Mix\n",
      "failed to add song Spectre\n",
      "failed to add song Scandal (Abedz & Uplink Remix)\n",
      "failed to add song Hold On - Vijay & Sofia Zlatko Remix\n",
      "failed to add song Ain't No Mountain High Enough - Calvo Edit\n",
      "failed to add song Return Of The Mack - Oliver Heldens Radio Edit\n",
      "failed to add song Barricade - Club Mix\n",
      "failed to add song On My Way\n",
      "failed to add song I'm In Control - The Magician Remix\n",
      "failed to add song Daylight - Original Mix\n",
      "failed to add song Sensation - Radio Mix\n",
      "failed to add song Pepper - Radio Mix\n",
      "failed to add song No Sleep\n",
      "failed to add song Feel (feat. Sena Sener) - Radio Edit\n",
      "failed to add song Kids\n",
      "failed to add song Cocoon\n",
      "failed to add song Alone\n",
      "failed to add song Love & War (feat. Yade Lauren)\n",
      "failed to add song I Need You\n",
      "elapsed 200 songs so far\n",
      "failed to add song Byte\n",
      "failed to add song $4,000,000 (feat. Ma$e & Big Gigantic) (feat. Ma$e & Big Gigantic) - Oliver Heldens Remix\n",
      "failed to add song Keep Your Head Up - Club Edit\n",
      "failed to add song Overrunning - DJ Kuba & Neitan Radio Edit\n",
      "failed to add song Ninja - Original Mix\n",
      "failed to add song Universe - Radio Edit\n",
      "failed to add song Young God\n",
      "failed to add song SOS\n",
      "failed to add song Lifting - Mix Cut\n",
      "failed to add song AFREAKA\n",
      "failed to add song Born To Rage - Extended\n",
      "failed to add song Crazy\n",
      "failed to add song The Night Out - Single Version\n",
      "failed to add song One Single Day\n",
      "failed to add song Higher\n",
      "failed to add song Get Get Down - Radio Edit\n",
      "failed to add song Fifteen [Mix Cut] - Hardwell Edit\n",
      "failed to add song Particle Arts\n",
      "failed to add song HIPPO\n",
      "failed to add song Bonzo's Juggling Show\n",
      "failed to add song Stay - Radio Mix\n",
      "failed to add song King In The North\n",
      "failed to add song Never Give Up on Love - Dyson Kellerman Remix\n",
      "failed to add song EVRBDY\n",
      "failed to add song Only\n",
      "failed to add song Woke up Like This - DJ Antoine Vs Mad Mark 2K15 Radio Edit\n",
      "failed to add song Grace\n",
      "failed to add song Dusk Till Dawn (feat. Sia) - John \"J-C\" Carr Mix\n",
      "failed to add song Crunkz - Oldschool Future House Mix Vol.1\n",
      "failed to add song To Rome - Gil Glaze x Lanna Remix\n",
      "failed to add song Dance With Me\n",
      "failed to add song Waking up the Neighbors\n",
      "failed to add song Give 'n' Take (Syn Cole Remix)\n",
      "failed to add song Blue\n",
      "failed to add song Crunkz - Best Of Future House Cloud 2018 Summer Mix\n",
      "failed to add song Love Me\n",
      "failed to add song The One\n",
      "failed to add song Let Go\n",
      "failed to add song Move - Nathan Rux Remix\n",
      "failed to add song For You My Love\n",
      "failed to add song Love You\n",
      "failed to add song The Beat\n",
      "failed to add song In My Mind\n",
      "failed to add song Mind\n",
      "failed to add song Believe It - Robby East & Castion Remix\n",
      "failed to add song Rogue Ones\n",
      "failed to add song Live Young\n",
      "failed to add song Helicopter - Video Edit\n",
      "failed to add song Jump\n",
      "failed to add song You & I\n",
      "failed to add song Crunkz - Future House Mix 2018 Vol.2\n",
      "failed to add song Euphoria\n",
      "elapsed 300 songs so far\n",
      "failed to add song Lie To Me (feat. Ina Wroldsen) - Maurice West Remix\n",
      "failed to add song Source vs Came here for love\n",
      "failed to add song Fire\n",
      "failed to add song Booyah 2018 Remixes (feat. We Are Loud & Sonny Wilson) - Breathe Carolina Remix\n",
      "failed to add song Sometimes\n",
      "failed to add song Rush Hour\n",
      "failed to add song Best Friend (feat. NERVO, The Knocks & ALISA UENO) - Remix\n",
      "failed to add song Who Got The Keys\n",
      "failed to add song Puzzles\n",
      "failed to add song Lights\n",
      "failed to add song When We Were Young (feat. Norma Jean Martine) - Rain or Shine Remix\n",
      "failed to add song In the Club - Gary Caos Edit Mix\n",
      "failed to add song Around The World\n",
      "failed to add song 6 Degrees (feat. Fiora) - Tale Of Us Remix\n",
      "failed to add song Don't Let Me Go (Remake) - Radio Edit\n",
      "failed to add song Speechless (feat. Erika Sirola) - Lucas & Steve Remix\n",
      "failed to add song American Dream\n",
      "failed to add song Giant (with Rag'n'Bone Man) - Purple Disco Machine Remix\n",
      "failed to add song Apple Juice (feat. Carla Monroe) - MOTi Remix\n",
      "failed to add song La Verdolaga (feat. Totó La Momposina)\n",
      "failed to add song Mirai\n",
      "failed to add song Live for the Night\n",
      "failed to add song Greenlight (feat. Flo Rida & LunchMoney Lewis) - Alex Ross Radio Mix\n",
      "failed to add song Your Love\n",
      "failed to add song Wait For You (feat. Maia Wright) - VIP Mix\n",
      "failed to add song Gold - Club Mix\n",
      "failed to add song Magic\n",
      "failed to add song Won't Let You Down - Original Mix\n",
      "failed to add song Inception (Ultra Live Anthem 2019)\n",
      "failed to add song Eins Zwei\n",
      "failed to add song Shuffle Shuttle\n",
      "failed to add song So Good\n",
      "failed to add song San Francisco (Darius & Finlay vs. Tom Borijn) - Radio Mix\n",
      "failed to add song Die Mit Dem Roten Halsband 2.0 - Vox Schuffle Mix\n",
      "failed to add song Tricky Disco 2k16 - Radio Edit\n",
      "failed to add song Enter the Yakuza Club\n",
      "failed to add song Never Never (feat. Indiiana) - Skytech Remix\n",
      "failed to add song Summer Lover (feat. Devin & Nile Rodgers) - Chocolate Puma Remix\n",
      "failed to add song Social Club\n",
      "failed to add song The King (with Dzeko)\n",
      "failed to add song Discopolis - Original Mix\n",
      "failed to add song Oceans - Dexter Remix\n",
      "failed to add song Blackout (feat. Steph Jones) - Madison Mars Remix\n",
      "failed to add song Menage A Trois\n",
      "failed to add song 2045\n",
      "elapsed 400 songs so far\n",
      "failed to add song In & Out Of My Life\n",
      "failed to add song Cerberus\n",
      "failed to add song Duncehall\n",
      "failed to add song 2 Hearts (feat. Gia Koka) - Club Mix\n",
      "failed to add song Baianá\n",
      "failed to add song Red Sun In The Sky Remix\n",
      "failed to add song Move\n",
      "failed to add song Addicted - Radio Cut\n",
      "failed to add song Praise (feat. Gunna)\n",
      "failed to add song The Way\n",
      "added 433 songs (out of 618)\n"
     ]
    }
   ],
   "source": [
    "failed_songs = []\n",
    "i = 1\n",
    "# track_names = track_names[:10]\n",
    "print(f\"tring to add {len(track_names)} songs...\")\n",
    "\n",
    "for song in track_names:\n",
    "    try:\n",
    "        \n",
    "        time.sleep(1)\n",
    "        \"\"\"\n",
    "        navbar_search_input = driver.find_element_by_id('navbarSearchInput')\n",
    "        \"\"\"\n",
    "        # \"\"\"\n",
    "        navbar_search_input = WebDriverWait(driver, 10).until(\n",
    "            EC.presence_of_element_located((By.ID, 'navbarSearchInput'))\n",
    "        )\n",
    "        # \"\"\"\n",
    "        navbar_search_input.send_keys(song)\n",
    "        navbar_search_input.send_keys(Keys.RETURN)\n",
    "\n",
    "        time.sleep(1)\n",
    "        \n",
    "        music_container = driver.find_element_by_tag_name('music-container')\n",
    "        music_container = driver.find_elements_by_tag_name('music-container')[2]\n",
    "        music_item = music_container.find_element_by_tag_name('music-horizontal-item')\n",
    "        builder = ActionChains(driver)\n",
    "        shadow_root = driver.execute_script('return arguments[0].shadowRoot', music_item)\n",
    "        div = shadow_root.find_element_by_tag_name('div')\n",
    "        builder.move_to_element(div).perform()\n",
    "        context_button = music_item.find_elements_by_tag_name('music-button')[1]\n",
    "        shadow_root = driver.execute_script('return arguments[0].shadowRoot', context_button)\n",
    "        button = shadow_root.find_element_by_tag_name('button')\n",
    "        button.click()\n",
    "        time.sleep(0.5)\n",
    "        add_to_playlist = driver.find_element_by_id('contextMenuOption1')\n",
    "        add_to_playlist.click()\n",
    "        time.sleep(0.5)\n",
    "        playlist = driver.find_element_by_class_name('col1')\n",
    "        playlist.click()\n",
    "        \n",
    "        driver.get('https://music.amazon.de/search')\n",
    "        if i % 100 == 0:\n",
    "            print(f\"elapsed {i} songs so far\")\n",
    "        \n",
    "        i += 1\n",
    "    except:\n",
    "        print(f\"failed to add song {song}\")\n",
    "        driver.get('https://music.amazon.de/search')\n",
    "        failed_songs.append(song)\n",
    "        continue\n",
    "        \n",
    "print(f\"added {len(track_names) - len(failed_songs)} songs (out of {len(track_names)})\")\n",
    "# driver.quit()"
   ]
  },
  {
   "cell_type": "code",
   "execution_count": 142,
   "metadata": {},
   "outputs": [],
   "source": [
    "driver.quit()"
   ]
  },
  {
   "cell_type": "markdown",
   "metadata": {},
   "source": [
    "## Tests"
   ]
  },
  {
   "cell_type": "code",
   "execution_count": 26,
   "metadata": {},
   "outputs": [],
   "source": [
    "hydrated_elements = driver.find_elements_by_class_name('hydrated')"
   ]
  },
  {
   "cell_type": "code",
   "execution_count": 38,
   "metadata": {},
   "outputs": [],
   "source": [
    "play = hydrated_elements[26]\n",
    "play.click()"
   ]
  },
  {
   "cell_type": "code",
   "execution_count": 17,
   "metadata": {},
   "outputs": [],
   "source": [
    "context_menu = hydrated_elements[21]\n",
    "context_menu.click()"
   ]
  },
  {
   "cell_type": "code",
   "execution_count": 39,
   "metadata": {},
   "outputs": [],
   "source": [
    "add_to_playlist = driver.find_element_by_id('contextMenuOption1')\n",
    "add_to_playlist.click()"
   ]
  },
  {
   "cell_type": "code",
   "execution_count": 40,
   "metadata": {},
   "outputs": [],
   "source": [
    "playlist = driver.find_element_by_class_name('col1')\n",
    "playlist.click()"
   ]
  },
  {
   "cell_type": "code",
   "execution_count": 14,
   "metadata": {},
   "outputs": [
    {
     "data": {
      "text/plain": [
       "604"
      ]
     },
     "execution_count": 14,
     "metadata": {},
     "output_type": "execute_result"
    }
   ],
   "source": [
    "len(failed_songs)"
   ]
  },
  {
   "cell_type": "code",
   "execution_count": 130,
   "metadata": {},
   "outputs": [],
   "source": [
    "music_container = driver.find_element_by_tag_name('music-container')"
   ]
  },
  {
   "cell_type": "code",
   "execution_count": 131,
   "metadata": {},
   "outputs": [],
   "source": [
    "music_container = driver.find_elements_by_tag_name('music-container')[2]"
   ]
  },
  {
   "cell_type": "code",
   "execution_count": 132,
   "metadata": {},
   "outputs": [],
   "source": [
    "music_item = music_container.find_element_by_tag_name('music-horizontal-item')"
   ]
  },
  {
   "cell_type": "code",
   "execution_count": 111,
   "metadata": {},
   "outputs": [],
   "source": [
    "music_item = driver.find_element_by_tag_name('music-horizontal-item')"
   ]
  },
  {
   "cell_type": "code",
   "execution_count": 133,
   "metadata": {},
   "outputs": [],
   "source": [
    "builder = ActionChains(driver)"
   ]
  },
  {
   "cell_type": "code",
   "execution_count": 134,
   "metadata": {},
   "outputs": [],
   "source": [
    "shadow_root = driver.execute_script('return arguments[0].shadowRoot', music_item)"
   ]
  },
  {
   "cell_type": "code",
   "execution_count": 135,
   "metadata": {},
   "outputs": [],
   "source": [
    "div = shadow_root.find_element_by_tag_name('div')"
   ]
  },
  {
   "cell_type": "code",
   "execution_count": 136,
   "metadata": {},
   "outputs": [],
   "source": [
    "builder.move_to_element(div).perform()"
   ]
  },
  {
   "cell_type": "code",
   "execution_count": 137,
   "metadata": {},
   "outputs": [],
   "source": [
    "context_button = music_item.find_elements_by_tag_name('music-button')[1]"
   ]
  },
  {
   "cell_type": "code",
   "execution_count": 138,
   "metadata": {},
   "outputs": [],
   "source": [
    "shadow_root = driver.execute_script('return arguments[0].shadowRoot', context_button)"
   ]
  },
  {
   "cell_type": "code",
   "execution_count": 139,
   "metadata": {},
   "outputs": [],
   "source": [
    "button = shadow_root.find_element_by_tag_name('button')"
   ]
  },
  {
   "cell_type": "code",
   "execution_count": 140,
   "metadata": {},
   "outputs": [],
   "source": [
    "button.click()"
   ]
  },
  {
   "cell_type": "code",
   "execution_count": 121,
   "metadata": {},
   "outputs": [],
   "source": [
    "add_to_playlist = driver.find_element_by_id('contextMenuOption1')"
   ]
  },
  {
   "cell_type": "code",
   "execution_count": 122,
   "metadata": {},
   "outputs": [],
   "source": [
    "add_to_playlist.click()"
   ]
  },
  {
   "cell_type": "code",
   "execution_count": 123,
   "metadata": {},
   "outputs": [],
   "source": [
    "playlist = driver.find_element_by_class_name('col1')"
   ]
  },
  {
   "cell_type": "code",
   "execution_count": 124,
   "metadata": {},
   "outputs": [],
   "source": [
    "playlist.click()"
   ]
  },
  {
   "cell_type": "code",
   "execution_count": 150,
   "metadata": {},
   "outputs": [
    {
     "data": {
      "text/plain": [
       "0"
      ]
     },
     "execution_count": 150,
     "metadata": {},
     "output_type": "execute_result"
    }
   ],
   "source": [
    "200 % 100"
   ]
  },
  {
   "cell_type": "code",
   "execution_count": 152,
   "metadata": {},
   "outputs": [
    {
     "data": {
      "text/plain": [
       "185"
      ]
     },
     "execution_count": 152,
     "metadata": {},
     "output_type": "execute_result"
    }
   ],
   "source": [
    "len(failed_songs)"
   ]
  },
  {
   "cell_type": "code",
   "execution_count": 153,
   "metadata": {},
   "outputs": [],
   "source": [
    "import pickle"
   ]
  },
  {
   "cell_type": "code",
   "execution_count": 154,
   "metadata": {},
   "outputs": [],
   "source": [
    "with open('outfile', 'wb') as fp:\n",
    "    pickle.dump(failed_songs, fp)"
   ]
  },
  {
   "cell_type": "code",
   "execution_count": null,
   "metadata": {},
   "outputs": [],
   "source": [
    "with open ('outfile', 'rb') as fp:\n",
    "    itemlist = pickle.load(fp)"
   ]
  }
 ],
 "metadata": {
  "kernelspec": {
   "display_name": "Python 3",
   "language": "python",
   "name": "python3"
  },
  "language_info": {
   "codemirror_mode": {
    "name": "ipython",
    "version": 3
   },
   "file_extension": ".py",
   "mimetype": "text/x-python",
   "name": "python",
   "nbconvert_exporter": "python",
   "pygments_lexer": "ipython3",
   "version": "3.8.5"
  }
 },
 "nbformat": 4,
 "nbformat_minor": 1
}