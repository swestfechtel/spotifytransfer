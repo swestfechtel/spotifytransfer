{
 "cells": [
  {
   "cell_type": "code",
   "execution_count": 118,
   "metadata": {},
   "outputs": [],
   "source": [
    "import csv\n",
    "import signal\n",
    "import ssl\n",
    "import time\n",
    "from multiprocessing import Pool, cpu_count, Value, Lock\n",
    "from os import getpid, kill\n",
    "import OpenSSL\n",
    "import requests\n",
    "from urllib3 import exceptions\n",
    "import base64\n",
    "from selenium import webdriver\n",
    "from selenium.webdriver.common.keys import Keys\n",
    "from selenium.webdriver.common.action_chains import ActionChains\n",
    "from selenium.webdriver.common.by import By\n",
    "from selenium.webdriver.support.ui import WebDriverWait\n",
    "from selenium.webdriver.support import expected_conditions as EC\n",
    "from selenium.common.exceptions import NoSuchElementException\n",
    "from selenium.webdriver.chrome.options import Options"
   ]
  },
  {
   "cell_type": "code",
   "execution_count": 119,
   "metadata": {
    "pycharm": {
     "name": "#%%\n"
    }
   },
   "outputs": [],
   "source": [
    "client_id = '9c7dc5330ca142a691fd0959682d0761'\n",
    "client_secret = '5ff88db8af1d4b1f97828479a33b5c1e'"
   ]
  },
  {
   "cell_type": "code",
   "execution_count": 120,
   "metadata": {
    "pycharm": {
     "name": "#%%\n"
    }
   },
   "outputs": [],
   "source": [
    "def get_auth_token():\n",
    "    tmp = client_id + ':' + client_secret\n",
    "    tmp = tmp.encode('ascii')\n",
    "    base64_code = base64.b64encode(tmp)\n",
    "    base64_code = base64_code.decode('ascii')\n",
    "    try:\n",
    "        url = 'https://accounts.spotify.com/api/token'\n",
    "        request = requests.post(url=url, headers={'Authorization': 'Basic ' + str(base64_code)}, data={'grant_type': 'client_credentials'})\n",
    "    except OpenSSL.SSL.SysCallError as e:\n",
    "        print(e)\n",
    "        return None\n",
    "    except ssl.SSLError as e:\n",
    "        print(e)\n",
    "        return None\n",
    "    except exceptions.MaxRetryError as e:\n",
    "        print(e)\n",
    "        return None\n",
    "    except requests.exceptions.SSLError as e:\n",
    "        print(e)\n",
    "        return None\n",
    "    except:\n",
    "        print(\"Unknown error. Unable to get further information.\")\n",
    "        return None\n",
    "\n",
    "    data = request.json()\n",
    "    return data['access_token'], data['expires_in']"
   ]
  },
  {
   "cell_type": "code",
   "execution_count": 121,
   "metadata": {
    "pycharm": {
     "name": "#%%\n"
    }
   },
   "outputs": [],
   "source": [
    "def fetch_playlists(authorization):\n",
    "    try:\n",
    "        url = 'https://api.spotify.com/v1/users/gangstarappa/playlists'\n",
    "        request = requests.get(url=url, headers={'Authorization': 'Bearer ' + authorization})\n",
    "    except OpenSSL.SSL.SysCallError as e:\n",
    "        print(e)\n",
    "        return None\n",
    "    except ssl.SSLError as e:\n",
    "        print(e)\n",
    "        return None\n",
    "    except exceptions.MaxRetryError as e:\n",
    "        print(e)\n",
    "        return None\n",
    "    except requests.exceptions.SSLError as e:\n",
    "        print(e)\n",
    "        return None\n",
    "    except:\n",
    "        print(\"Unknown error. Unable to get further information.\")\n",
    "        return None\n",
    "\n",
    "    data = request.json()\n",
    "    return data"
   ]
  },
  {
   "cell_type": "code",
   "execution_count": 122,
   "metadata": {
    "pycharm": {
     "name": "#%%\n"
    }
   },
   "outputs": [],
   "source": [
    "def fetch_playlist(authorization, playlist_id):\n",
    "    ret = list()\n",
    "    try:\n",
    "        offset = 0\n",
    "        for i in range(10):\n",
    "            url = 'https://api.spotify.com/v1/playlists/' + playlist_id + '/tracks'\n",
    "            request = requests.get(url=url, headers={'Authorization': 'Bearer ' + authorization}, params={'offset': str(offset)})\n",
    "            while request.status_code != 200:\n",
    "                if request.status_code == 429:\n",
    "                    retry = int(request.headers['Retry-After']) + 1\n",
    "                    print(f\"Process {getpid()}: Response code {request.status_code}. Retrying in {retry}s..\")\n",
    "                    time.sleep(retry)\n",
    "                    request = requests.get(url=url, headers={'Authorization': 'Bearer ' + authorization}, params={'offset': str(offset)})\n",
    "                elif request.status_code == 403:\n",
    "                    print(f\"Process {getpid()}: Response code {request.status_code}. Killing process.\")\n",
    "                    kill(getpid(), signal.SIGTERM)\n",
    "                    return None\n",
    "                else:\n",
    "                    print(f\"Response code {request.status_code}. Ending query chain.\")\n",
    "                    return None\n",
    "\n",
    "            offset += 100\n",
    "            data = request.json()\n",
    "            # print(data)\n",
    "            ret.append(data)\n",
    "    except OpenSSL.SSL.SysCallError as e:\n",
    "        print(e)\n",
    "        return None\n",
    "    except ssl.SSLError as e:\n",
    "        print(e)\n",
    "        return None\n",
    "    except exceptions.MaxRetryError as e:\n",
    "        print(e)\n",
    "        return None\n",
    "    except requests.exceptions.SSLError as e:\n",
    "        print(e)\n",
    "        return None\n",
    "    except:\n",
    "        print(\"Unknown error. Unable to get further information.\")\n",
    "        return None\n",
    "\n",
    "    return ret"
   ]
  },
  {
   "cell_type": "code",
   "execution_count": 123,
   "metadata": {
    "pycharm": {
     "name": "#%%\n"
    }
   },
   "outputs": [],
   "source": [
    "access_token, expires_in = get_auth_token()"
   ]
  },
  {
   "cell_type": "code",
   "execution_count": 124,
   "metadata": {
    "pycharm": {
     "name": "#%%\n"
    }
   },
   "outputs": [],
   "source": [
    "playlists_raw = fetch_playlists(access_token)"
   ]
  },
  {
   "cell_type": "code",
   "execution_count": 125,
   "metadata": {
    "pycharm": {
     "name": "#%%\n"
    }
   },
   "outputs": [],
   "source": [
    "playlists = dict()\n",
    "for playlist in playlists_raw['items']:\n",
    "    playlists[playlist['name']] = playlist['id']"
   ]
  },
  {
   "cell_type": "code",
   "execution_count": 126,
   "metadata": {
    "pycharm": {
     "name": "#%%\n"
    }
   },
   "outputs": [],
   "source": [
    "tracks_raw = fetch_playlist(access_token, playlists['#EDMParty'])"
   ]
  },
  {
   "cell_type": "code",
   "execution_count": 127,
   "metadata": {},
   "outputs": [
    {
     "data": {
      "text/plain": [
       "'Avicii'"
      ]
     },
     "execution_count": 127,
     "metadata": {},
     "output_type": "execute_result"
    }
   ],
   "source": [
    "tracks_raw[0]['items'][0]['track']['artists'][0]['name']"
   ]
  },
  {
   "cell_type": "code",
   "execution_count": 68,
   "metadata": {
    "pycharm": {
     "name": "#%%\n"
    }
   },
   "outputs": [
    {
     "name": "stdout",
     "output_type": "stream",
     "text": [
      "619\n"
     ]
    }
   ],
   "source": [
    "track_names = list()\n",
    "for item in tracks_raw:\n",
    "    for track in item['items']:\n",
    "        tmp = dict()\n",
    "        tmp['name'] = track['track']['name']\n",
    "        tmp['artist'] = track['track']['artists'][0]['name']\n",
    "        track_names.append(tmp)\n",
    "\n",
    "print(len(track_names))"
   ]
  },
  {
   "cell_type": "code",
   "execution_count": 69,
   "metadata": {},
   "outputs": [
    {
     "name": "stdout",
     "output_type": "stream",
     "text": [
      "{'name': 'Wake Me Up - Radio Edit', 'artist': 'Avicii'}\n"
     ]
    }
   ],
   "source": [
    "print(track_names[0])"
   ]
  },
  {
   "cell_type": "code",
   "execution_count": 70,
   "metadata": {
    "pycharm": {
     "name": "#%%\n"
    }
   },
   "outputs": [],
   "source": [
    "options = Options()\n",
    "options.headless = True\n",
    "driver = webdriver.Chrome(options=options, executable_path=r'E:/Program Files (x86)/Chromedriver/chromedriver.exe')\n",
    "# driver.implicitly_wait(10)\n",
    "driver.get('https://music.amazon.de/search')"
   ]
  },
  {
   "cell_type": "code",
   "execution_count": 71,
   "metadata": {
    "pycharm": {
     "name": "#%%\n"
    }
   },
   "outputs": [],
   "source": [
    "sign_in_button = WebDriverWait(driver, 10).until(\n",
    "        EC.presence_of_element_located((By.ID, 'signInButton'))\n",
    "    )\n",
    "sign_in_button.click()\n",
    "\n",
    "# \"\"\"\n",
    "email_input = driver.find_element_by_name('email')\n",
    "password_input = driver.find_element_by_name('password')\n",
    "submit_button = driver.find_element_by_id('signInSubmit')\n",
    "# \"\"\"\n",
    "\"\"\"\n",
    "email_input = WebDriverWait(driver, 10).until(\n",
    "        EC.presence_of_element_located((By.NAME, 'email'))\n",
    "    )\n",
    "password_input = WebDriverWait(driver, 10).until(\n",
    "        EC.presence_of_element_located((By.NAME, 'password'))\n",
    "    )\n",
    "submit_button = WebDriverWait(driver, 10).until(\n",
    "        EC.presence_of_element_located((By.NAME, 'signInSubmit'))\n",
    "    )\n",
    "    \"\"\"\n",
    "email_input.send_keys('simon.westfechtel@gmail.com')\n",
    "password_input.send_keys('ho9nktdoiPme5SspSQLd')\n",
    "submit_button.click()"
   ]
  },
  {
   "cell_type": "markdown",
   "metadata": {},
   "source": [
    "## Initial round"
   ]
  },
  {
   "cell_type": "code",
   "execution_count": 72,
   "metadata": {},
   "outputs": [],
   "source": [
    "def check_top_result(music_container):\n",
    "    \n",
    "    # check if top search result matches and try to add\n",
    "    # select wrapper for top results\n",
    "    music_container_top = music_container.find_elements_by_tag_name('music-container')[0]\n",
    "    \n",
    "    # select wrapper for top song result\n",
    "    music_horizontal_item_top = music_container_top.find_element_by_tag_name('music-horizontal-item')\n",
    "    \n",
    "    # find shadow root for wrapper\n",
    "    shadow_root_top = driver.execute_script('return arguments[0].shadowRoot', music_horizontal_item_top)\n",
    "    \n",
    "    # find song and artist names\n",
    "    div_center_top = shadow_root_top.find_element_by_class_name('center')\n",
    "    song_name_top = div_center_top.find_element_by_tag_name('a')\n",
    "    span_top = div_center_top.find_element_by_tag_name('span')\n",
    "    artist_top = span_top.find_element_by_tag_name('a')\n",
    "    \n",
    "    # check if (song and) artist names match\n",
    "    # if song['name'] in song_name_top.get_attribute('text') and song['artist'] in artist_top.get_attribute('text'):\n",
    "    if song['artist'] in artist_top.get_attribute('text'):\n",
    "        \n",
    "        # find div to hover\n",
    "        div_top = shadow_root_top.find_element_by_tag_name('div')\n",
    "        builder_top = ActionChains(driver)\n",
    "        builder_top.move_to_element(div_top).perform()\n",
    "\n",
    "        # find button for context menu\n",
    "        WebDriverWait(driver, 10).until(\n",
    "            EC.visibility_of_element_located((By.TAG_NAME, 'music-button'))\n",
    "        )\n",
    "        music_button_top = music_container_top.find_elements_by_tag_name('music-button')[1]\n",
    "        shadow_root_top = driver.execute_script('return arguments[0].shadowRoot', music_button_top)\n",
    "        button_top = shadow_root_top.find_element_by_tag_name('button')\n",
    "        button_top.click()\n",
    "\n",
    "        # find button to add to playlist\n",
    "        add_to_playlist = WebDriverWait(driver, 10).until(\n",
    "            EC.visibility_of_element_located((By.ID, 'contextMenuOption1'))\n",
    "        )\n",
    "        # add_to_playlist = driver.find_element_by_id('contextMenuOption1')\n",
    "        add_to_playlist.click()\n",
    "\n",
    "        playlist = WebDriverWait(driver, 10).until(\n",
    "            EC.element_to_be_clickable((By.CLASS_NAME, 'col1'))\n",
    "        )\n",
    "        playlist.click()\n",
    "        \n",
    "        return True\n",
    "    \n",
    "    return False"
   ]
  },
  {
   "cell_type": "code",
   "execution_count": 73,
   "metadata": {},
   "outputs": [],
   "source": [
    "def check_song_results(music_container):\n",
    "    \n",
    "    # cycle songs for correct result\n",
    "    # find wrapper for song results\n",
    "    music_container = music_container.find_elements_by_tag_name('music-container')[1]\n",
    "    \n",
    "    # find wrappers for songs\n",
    "    music_items = music_container.find_elements_by_tag_name('music-horizontal-item')\n",
    "        \n",
    "    # cycle through song results\n",
    "    for music_item in music_items:\n",
    "        \n",
    "        # find artist name\n",
    "        builder = ActionChains(driver)\n",
    "        shadow_root = driver.execute_script('return arguments[0].shadowRoot', music_item)\n",
    "        center_div = shadow_root.find_element_by_class_name('center')\n",
    "        span = center_div.find_element_by_tag_name('span')\n",
    "        music_link = span.find_element_by_tag_name('music-link')\n",
    "        artist = music_link.find_element_by_tag_name('a')\n",
    "        \n",
    "        # check if artist name matches\n",
    "        if song['artist'] in artist.get_attribute('text'):\n",
    "            div = shadow_root.find_element_by_tag_name('div')\n",
    "            builder.move_to_element(div).perform()\n",
    "\n",
    "            WebDriverWait(music_item, 10).until(\n",
    "                EC.visibility_of_element_located((By.TAG_NAME, 'music-button'))\n",
    "            )\n",
    "            context_button = music_item.find_elements_by_tag_name('music-button')[1]\n",
    "            shadow_root = driver.execute_script('return arguments[0].shadowRoot', context_button)\n",
    "            button = shadow_root.find_element_by_tag_name('button')\n",
    "            button.click()\n",
    "\n",
    "            add_to_playlist = WebDriverWait(driver, 10).until(\n",
    "                EC.visibility_of_element_located((By.ID, 'contextMenuOption1'))\n",
    "            )\n",
    "            # add_to_playlist = driver.find_element_by_id('contextMenuOption1')\n",
    "            add_to_playlist.click()\n",
    "\n",
    "            playlist = WebDriverWait(driver, 10).until(\n",
    "                EC.element_to_be_clickable((By.CLASS_NAME, 'col1'))\n",
    "            )\n",
    "            playlist.click()\n",
    "            \n",
    "            return True\n",
    "        else: \n",
    "            continue\n",
    "\n",
    "    return False"
   ]
  },
  {
   "cell_type": "code",
   "execution_count": 74,
   "metadata": {
    "pycharm": {
     "name": "#%%\n"
    },
    "scrolled": true
   },
   "outputs": [
    {
     "name": "stdout",
     "output_type": "stream",
     "text": [
      "tring to add 50 songs...\n",
      "failed to add song {'name': 'Solace Album Mix', 'artist': 'Monstercat'} due to bad search result\n",
      "failed to add song {'name': 'Stars - Radio Edit', 'artist': 'Vicetone'} due to bad search result\n",
      "failed to add song {'name': 'Lowdown - Original Mix', 'artist': 'Vicetone'} due to bad search result\n",
      "failed to add song {'name': 'California', 'artist': 'Vicetone'} due to bad search result\n",
      "failed to add song {'name': 'Adrenalized - Original Radio Mix', 'artist': 'Luengo & Diaz feat. Tommy Clint'} due to bad search result\n",
      "failed to add song {'name': 'Dancing in London - David May Original Mix', 'artist': 'Patrick Miller'} due to bad search result\n"
     ]
    },
    {
     "ename": "KeyboardInterrupt",
     "evalue": "",
     "output_type": "error",
     "traceback": [
      "\u001B[1;31m---------------------------------------------------------------------------\u001B[0m",
      "\u001B[1;31mKeyboardInterrupt\u001B[0m                         Traceback (most recent call last)",
      "\u001B[1;32m<ipython-input-74-f6c45ffafb30>\u001B[0m in \u001B[0;36m<module>\u001B[1;34m\u001B[0m\n\u001B[0;32m     29\u001B[0m         \u001B[1;31m# check top result\u001B[0m\u001B[1;33m\u001B[0m\u001B[1;33m\u001B[0m\u001B[1;33m\u001B[0m\u001B[0m\n\u001B[0;32m     30\u001B[0m         \u001B[1;32mtry\u001B[0m\u001B[1;33m:\u001B[0m\u001B[1;33m\u001B[0m\u001B[1;33m\u001B[0m\u001B[0m\n\u001B[1;32m---> 31\u001B[1;33m             \u001B[1;32mif\u001B[0m \u001B[0mcheck_top_result\u001B[0m\u001B[1;33m(\u001B[0m\u001B[0mmusic_container\u001B[0m\u001B[1;33m)\u001B[0m\u001B[1;33m:\u001B[0m \u001B[1;32mcontinue\u001B[0m\u001B[1;33m\u001B[0m\u001B[1;33m\u001B[0m\u001B[0m\n\u001B[0m\u001B[0;32m     32\u001B[0m         \u001B[1;32mexcept\u001B[0m \u001B[0mException\u001B[0m \u001B[1;32mas\u001B[0m \u001B[0me\u001B[0m\u001B[1;33m:\u001B[0m\u001B[1;33m\u001B[0m\u001B[1;33m\u001B[0m\u001B[0m\n\u001B[0;32m     33\u001B[0m             \u001B[1;32mpass\u001B[0m\u001B[1;33m\u001B[0m\u001B[1;33m\u001B[0m\u001B[0m\n",
      "\u001B[1;32m<ipython-input-72-b1f7958510e4>\u001B[0m in \u001B[0;36mcheck_top_result\u001B[1;34m(music_container)\u001B[0m\n\u001B[0;32m     27\u001B[0m \u001B[1;33m\u001B[0m\u001B[0m\n\u001B[0;32m     28\u001B[0m         \u001B[1;31m# find button for context menu\u001B[0m\u001B[1;33m\u001B[0m\u001B[1;33m\u001B[0m\u001B[1;33m\u001B[0m\u001B[0m\n\u001B[1;32m---> 29\u001B[1;33m         WebDriverWait(driver, 10).until(\n\u001B[0m\u001B[0;32m     30\u001B[0m             \u001B[0mEC\u001B[0m\u001B[1;33m.\u001B[0m\u001B[0mvisibility_of_element_located\u001B[0m\u001B[1;33m(\u001B[0m\u001B[1;33m(\u001B[0m\u001B[0mBy\u001B[0m\u001B[1;33m.\u001B[0m\u001B[0mTAG_NAME\u001B[0m\u001B[1;33m,\u001B[0m \u001B[1;34m'music-button'\u001B[0m\u001B[1;33m)\u001B[0m\u001B[1;33m)\u001B[0m\u001B[1;33m\u001B[0m\u001B[1;33m\u001B[0m\u001B[0m\n\u001B[0;32m     31\u001B[0m         )\n",
      "\u001B[1;32m~\\.conda\\envs\\spotifytransfer\\lib\\site-packages\\selenium\\webdriver\\support\\wait.py\u001B[0m in \u001B[0;36muntil\u001B[1;34m(self, method, message)\u001B[0m\n\u001B[0;32m     75\u001B[0m                 \u001B[0mscreen\u001B[0m \u001B[1;33m=\u001B[0m \u001B[0mgetattr\u001B[0m\u001B[1;33m(\u001B[0m\u001B[0mexc\u001B[0m\u001B[1;33m,\u001B[0m \u001B[1;34m'screen'\u001B[0m\u001B[1;33m,\u001B[0m \u001B[1;32mNone\u001B[0m\u001B[1;33m)\u001B[0m\u001B[1;33m\u001B[0m\u001B[1;33m\u001B[0m\u001B[0m\n\u001B[0;32m     76\u001B[0m                 \u001B[0mstacktrace\u001B[0m \u001B[1;33m=\u001B[0m \u001B[0mgetattr\u001B[0m\u001B[1;33m(\u001B[0m\u001B[0mexc\u001B[0m\u001B[1;33m,\u001B[0m \u001B[1;34m'stacktrace'\u001B[0m\u001B[1;33m,\u001B[0m \u001B[1;32mNone\u001B[0m\u001B[1;33m)\u001B[0m\u001B[1;33m\u001B[0m\u001B[1;33m\u001B[0m\u001B[0m\n\u001B[1;32m---> 77\u001B[1;33m             \u001B[0mtime\u001B[0m\u001B[1;33m.\u001B[0m\u001B[0msleep\u001B[0m\u001B[1;33m(\u001B[0m\u001B[0mself\u001B[0m\u001B[1;33m.\u001B[0m\u001B[0m_poll\u001B[0m\u001B[1;33m)\u001B[0m\u001B[1;33m\u001B[0m\u001B[1;33m\u001B[0m\u001B[0m\n\u001B[0m\u001B[0;32m     78\u001B[0m             \u001B[1;32mif\u001B[0m \u001B[0mtime\u001B[0m\u001B[1;33m.\u001B[0m\u001B[0mtime\u001B[0m\u001B[1;33m(\u001B[0m\u001B[1;33m)\u001B[0m \u001B[1;33m>\u001B[0m \u001B[0mend_time\u001B[0m\u001B[1;33m:\u001B[0m\u001B[1;33m\u001B[0m\u001B[1;33m\u001B[0m\u001B[0m\n\u001B[0;32m     79\u001B[0m                 \u001B[1;32mbreak\u001B[0m\u001B[1;33m\u001B[0m\u001B[1;33m\u001B[0m\u001B[0m\n",
      "\u001B[1;31mKeyboardInterrupt\u001B[0m: "
     ]
    }
   ],
   "source": [
    "failed_songs = []\n",
    "i = 0\n",
    "track_names = track_names[:50]\n",
    "print(f\"tring to add {len(track_names)} songs...\")\n",
    "\n",
    "for song in track_names:\n",
    "    try:\n",
    "        driver.get('https://music.amazon.de/search')\n",
    "        \n",
    "        i += 1\n",
    "        if i % 25 == 0:\n",
    "            print(f\"elapsed {i} songs so far\")    \n",
    "        \n",
    "        # Wait for searchbar to appear\n",
    "        navbar_search_input = WebDriverWait(driver, 10).until(\n",
    "            EC.presence_of_element_located((By.ID, 'navbarSearchInput'))\n",
    "        )\n",
    "\n",
    "        # enter song name into searchbar\n",
    "        navbar_search_input.send_keys(song['name'])\n",
    "        navbar_search_input.send_keys(Keys.RETURN)\n",
    "        \n",
    "        # find outer wrapper\n",
    "        music_container = WebDriverWait(driver, 10).until(\n",
    "            EC.visibility_of_element_located((By.TAG_NAME, 'music-container'))\n",
    "        )\n",
    "        # music_container = driver.find_element_by_tag_name('music-container')\n",
    "        \n",
    "        # check top result\n",
    "        try:\n",
    "            if check_top_result(music_container): continue\n",
    "        except Exception as e:\n",
    "            pass\n",
    "            # raise e\n",
    "        \n",
    "        try:\n",
    "            if check_song_results(music_container): continue\n",
    "        except Exception as e:\n",
    "            raise e\n",
    "        \n",
    "        failed_songs.append(song)\n",
    "        print(f\"failed to add song {song} due to bad search result\")\n",
    "        \n",
    "    except Exception as e:\n",
    "        print(f\"failed to add song {song} due to error\")\n",
    "        print(e)\n",
    "        # driver.get('https://music.amazon.de/search')\n",
    "        failed_songs.append(song)\n",
    "        continue\n",
    "        \n",
    "print(f\"added {len(track_names) - len(failed_songs)} songs (out of {len(track_names)})\")\n",
    "# driver.quit()"
   ]
  },
  {
   "cell_type": "code",
   "execution_count": 67,
   "metadata": {},
   "outputs": [],
   "source": [
    "driver.quit()"
   ]
  },
  {
   "cell_type": "markdown",
   "metadata": {},
   "source": [
    "## Tests"
   ]
  },
  {
   "cell_type": "code",
   "execution_count": 38,
   "metadata": {},
   "outputs": [
    {
     "data": {
      "text/plain": [
       "<selenium.webdriver.remote.webelement.WebElement (session=\"376ab7599c3380a5270842165602795b\", element=\"0ca570d8-0f79-43d2-b0ac-d470a9a24ad7\")>"
      ]
     },
     "execution_count": 38,
     "metadata": {},
     "output_type": "execute_result"
    }
   ],
   "source": [
    "playlist"
   ]
  },
  {
   "cell_type": "code",
   "execution_count": 58,
   "metadata": {},
   "outputs": [],
   "source": [
    "navbar_search_input.send_keys(song['name'])\n",
    "navbar_search_input.send_keys(Keys.RETURN)\n",
    "\n",
    "# time.sleep(1)\n",
    "        \n",
    "# find outer wrapper\n",
    "WebDriverWait(driver, 10).until(\n",
    "    EC.visibility_of_element_located((By.TAG_NAME, 'music-container'))\n",
    ")\n",
    "music_container = driver.find_element_by_tag_name('music-container')"
   ]
  },
  {
   "cell_type": "markdown",
   "metadata": {},
   "source": [
    "### Work flow"
   ]
  },
  {
   "cell_type": "code",
   "execution_count": 73,
   "metadata": {},
   "outputs": [],
   "source": [
    "music_container = driver.find_element_by_tag_name('music-container')"
   ]
  },
  {
   "cell_type": "code",
   "execution_count": 74,
   "metadata": {},
   "outputs": [],
   "source": [
    "music_container = music_container.find_elements_by_tag_name('music-container')[1]"
   ]
  },
  {
   "cell_type": "code",
   "execution_count": 75,
   "metadata": {},
   "outputs": [],
   "source": [
    "music_items = music_container.find_elements_by_tag_name('music-horizontal-item')"
   ]
  },
  {
   "cell_type": "code",
   "execution_count": 76,
   "metadata": {},
   "outputs": [],
   "source": [
    "music_item = music_items[0]"
   ]
  },
  {
   "cell_type": "code",
   "execution_count": 77,
   "metadata": {},
   "outputs": [],
   "source": [
    "builder = ActionChains(driver)"
   ]
  },
  {
   "cell_type": "code",
   "execution_count": 78,
   "metadata": {},
   "outputs": [],
   "source": [
    "shadow_root = driver.execute_script('return arguments[0].shadowRoot', music_item)"
   ]
  },
  {
   "cell_type": "code",
   "execution_count": 79,
   "metadata": {},
   "outputs": [],
   "source": [
    "center_div = shadow_root.find_element_by_class_name('center')"
   ]
  },
  {
   "cell_type": "code",
   "execution_count": 80,
   "metadata": {},
   "outputs": [],
   "source": [
    "span = center_div.find_element_by_tag_name('span')"
   ]
  },
  {
   "cell_type": "code",
   "execution_count": 81,
   "metadata": {},
   "outputs": [],
   "source": [
    "music_link = span.find_element_by_tag_name('music-link')"
   ]
  },
  {
   "cell_type": "code",
   "execution_count": 82,
   "metadata": {},
   "outputs": [],
   "source": [
    "artist = music_link.find_element_by_tag_name('a') "
   ]
  },
  {
   "cell_type": "code",
   "execution_count": 100,
   "metadata": {},
   "outputs": [
    {
     "data": {
      "text/plain": [
       "False"
      ]
     },
     "execution_count": 100,
     "metadata": {},
     "output_type": "execute_result"
    }
   ],
   "source": [
    "track_names[0]['artist'] in artist.get_attribute('text')"
   ]
  },
  {
   "cell_type": "code",
   "execution_count": 84,
   "metadata": {},
   "outputs": [],
   "source": [
    "div = shadow_root.find_element_by_tag_name('div')"
   ]
  },
  {
   "cell_type": "code",
   "execution_count": 85,
   "metadata": {},
   "outputs": [],
   "source": [
    "builder.move_to_element(div).perform()"
   ]
  },
  {
   "cell_type": "code",
   "execution_count": 86,
   "metadata": {},
   "outputs": [],
   "source": [
    "context_button = music_item.find_elements_by_tag_name('music-button')[1]"
   ]
  },
  {
   "cell_type": "code",
   "execution_count": 87,
   "metadata": {},
   "outputs": [],
   "source": [
    "shadow_root = driver.execute_script('return arguments[0].shadowRoot', context_button)"
   ]
  },
  {
   "cell_type": "code",
   "execution_count": 88,
   "metadata": {},
   "outputs": [],
   "source": [
    "button = shadow_root.find_element_by_tag_name('button')"
   ]
  },
  {
   "cell_type": "code",
   "execution_count": 89,
   "metadata": {},
   "outputs": [],
   "source": [
    "button.click()"
   ]
  },
  {
   "cell_type": "code",
   "execution_count": 90,
   "metadata": {},
   "outputs": [],
   "source": [
    "add_to_playlist = driver.find_element_by_id('contextMenuOption1')"
   ]
  },
  {
   "cell_type": "code",
   "execution_count": 91,
   "metadata": {},
   "outputs": [],
   "source": [
    "add_to_playlist.click()"
   ]
  },
  {
   "cell_type": "code",
   "execution_count": 32,
   "metadata": {},
   "outputs": [],
   "source": [
    "playlist = driver.find_element_by_class_name('col1')"
   ]
  },
  {
   "cell_type": "code",
   "execution_count": 33,
   "metadata": {},
   "outputs": [],
   "source": [
    "span = playlist.find_element_by_tag_name('span')"
   ]
  },
  {
   "cell_type": "code",
   "execution_count": 34,
   "metadata": {},
   "outputs": [],
   "source": [
    "span.click()"
   ]
  },
  {
   "cell_type": "code",
   "execution_count": 124,
   "metadata": {},
   "outputs": [],
   "source": [
    "playlist.click()"
   ]
  },
  {
   "cell_type": "code",
   "execution_count": 108,
   "metadata": {},
   "outputs": [],
   "source": [
    "music_container = driver.find_element_by_tag_name('music-container')\n",
    "music_container_top = music_container.find_elements_by_tag_name('music-container')[0]\n",
    "music_horizontal_item_top = music_container_top.find_element_by_tag_name('music-horizontal-item')\n",
    "shadow_root_top = driver.execute_script('return arguments[0].shadowRoot', music_horizontal_item_top)\n",
    "div_center_top = shadow_root_top.find_element_by_class_name('center')\n",
    "song_name_top = div_center_top.find_element_by_tag_name('a')\n",
    "span_top = div_center_top.find_element_by_tag_name('span')\n",
    "artist_top = span_top.find_element_by_tag_name('a')\n",
    "if 'Kiss Me' in song_name_top.get_attribute('text') and 'Rea Garvey' in artist_top.get_attribute('text'):\n",
    "    div_top = shadow_root_top.find_element_by_tag_name('div')\n",
    "    builder_top = ActionChains(driver)\n",
    "    builder_top.move_to_element(div_top).perform()\n",
    "    time.sleep(0.5)\n",
    "    music_button_top = music_container_top.find_elements_by_tag_name('music-button')[1]\n",
    "    shadow_root_top = driver.execute_script('return arguments[0].shadowRoot', music_button_top)\n",
    "    button_top = shadow_root_top.find_element_by_tag_name('button')\n",
    "    button_top.click()\n",
    "    time.sleep(0.5)\n",
    "    add_to_playlist = driver.find_element_by_id('contextMenuOption1')\n",
    "    add_to_playlist.click()\n",
    "else:\n",
    "    print('fail')"
   ]
  },
  {
   "cell_type": "markdown",
   "metadata": {},
   "source": [
    "### Work flow combined"
   ]
  },
  {
   "cell_type": "code",
   "execution_count": null,
   "metadata": {},
   "outputs": [],
   "source": [
    "music_container = driver.find_element_by_tag_name('music-container')\n",
    "music_container = music_container.find_elements_by_tag_name('music-container')[1]\n",
    "music_items = music_container.find_elements_by_tag_name('music-horizontal-item')\n",
    "\n",
    "for music_item in music_items:\n",
    "    builder = ActionChains(driver)\n",
    "    shadow_root = driver.execute_script('return arguments[0].shadowRoot', music_item)\n",
    "    center_div = shadow_root.find_element_by_class_name('center')\n",
    "    span = center_div.find_element_by_tag_name('span')\n",
    "    music_link = span.find_element_by_tag_name('music-link')\n",
    "    artist = music_link.find_element_by_tag_name('a')\n",
    "    if artist.get_attribute('text') == r'\\w':\n",
    "        div = shadow_root.find_element_by_tag_name('div')\n",
    "        builder.move_to_element(div).perform()\n",
    "        context_button = music_item.find_elements_by_tag_name('music-button')[1]\n",
    "        shadow_root = driver.execute_script('return arguments[0].shadowRoot', context_button)\n",
    "        button = shadow_root.find_element_by_tag_name('button')\n",
    "        button.click()\n",
    "        add_to_playlist = driver.find_element_by_id('contextMenuOption1')\n",
    "        add_to_playlist.click()\n",
    "        playlist = driver.find_element_by_class_name('col1')\n",
    "        playlist.click()\n",
    "        break\n",
    "    else: \n",
    "        continue\n",
    "else:\n",
    "    raise Exception(f'failed to add song {song}')"
   ]
  },
  {
   "cell_type": "code",
   "execution_count": 150,
   "metadata": {},
   "outputs": [
    {
     "data": {
      "text/plain": [
       "0"
      ]
     },
     "execution_count": 150,
     "metadata": {},
     "output_type": "execute_result"
    }
   ],
   "source": [
    "200 % 100"
   ]
  },
  {
   "cell_type": "code",
   "execution_count": 152,
   "metadata": {},
   "outputs": [
    {
     "data": {
      "text/plain": [
       "185"
      ]
     },
     "execution_count": 152,
     "metadata": {},
     "output_type": "execute_result"
    }
   ],
   "source": [
    "len(failed_songs)"
   ]
  },
  {
   "cell_type": "code",
   "execution_count": 153,
   "metadata": {},
   "outputs": [],
   "source": [
    "import pickle"
   ]
  },
  {
   "cell_type": "code",
   "execution_count": 154,
   "metadata": {},
   "outputs": [],
   "source": [
    "with open('outfile', 'wb') as fp:\n",
    "    pickle.dump(failed_songs, fp)"
   ]
  },
  {
   "cell_type": "code",
   "execution_count": null,
   "metadata": {},
   "outputs": [],
   "source": [
    "with open ('outfile', 'rb') as fp:\n",
    "    itemlist = pickle.load(fp)"
   ]
  }
 ],
 "metadata": {
  "kernelspec": {
   "display_name": "Python 3",
   "language": "python",
   "name": "python3"
  },
  "language_info": {
   "codemirror_mode": {
    "name": "ipython",
    "version": 3
   },
   "file_extension": ".py",
   "mimetype": "text/x-python",
   "name": "python",
   "nbconvert_exporter": "python",
   "pygments_lexer": "ipython3",
   "version": "3.8.5"
  }
 },
 "nbformat": 4,
 "nbformat_minor": 1
}