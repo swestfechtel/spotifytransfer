{
 "cells": [
  {
   "cell_type": "code",
   "execution_count": 22,
   "metadata": {},
   "outputs": [],
   "source": [
    "import csv\n",
    "import signal\n",
    "import ssl\n",
    "import time\n",
    "from multiprocessing import Pool, cpu_count, Value, Lock\n",
    "from os import getpid, kill\n",
    "import OpenSSL\n",
    "import requests\n",
    "from urllib3 import exceptions\n",
    "import base64\n",
    "from selenium import webdriver\n",
    "from selenium.webdriver.common.keys import Keys\n",
    "from selenium.webdriver.common.action_chains import ActionChains\n",
    "from selenium.webdriver.common.by import By\n",
    "from selenium.webdriver.support.ui import WebDriverWait\n",
    "from selenium.webdriver.support import expected_conditions as EC\n",
    "from selenium.common.exceptions import NoSuchElementException\n",
    "from selenium.webdriver.chrome.options import Options"
   ]
  },
  {
   "cell_type": "code",
   "execution_count": 3,
   "metadata": {
    "pycharm": {
     "name": "#%%\n"
    }
   },
   "outputs": [],
   "source": [
    "client_id = '9c7dc5330ca142a691fd0959682d0761'\n",
    "client_secret = '5ff88db8af1d4b1f97828479a33b5c1e'"
   ]
  },
  {
   "cell_type": "code",
   "execution_count": 4,
   "metadata": {
    "pycharm": {
     "name": "#%%\n"
    }
   },
   "outputs": [],
   "source": [
    "def get_auth_token():\n",
    "    tmp = client_id + ':' + client_secret\n",
    "    tmp = tmp.encode('ascii')\n",
    "    base64_code = base64.b64encode(tmp)\n",
    "    base64_code = base64_code.decode('ascii')\n",
    "    try:\n",
    "        url = 'https://accounts.spotify.com/api/token'\n",
    "        request = requests.post(url=url, headers={'Authorization': 'Basic ' + str(base64_code)}, data={'grant_type': 'client_credentials'})\n",
    "    except OpenSSL.SSL.SysCallError as e:\n",
    "        print(e)\n",
    "        return None\n",
    "    except ssl.SSLError as e:\n",
    "        print(e)\n",
    "        return None\n",
    "    except exceptions.MaxRetryError as e:\n",
    "        print(e)\n",
    "        return None\n",
    "    except requests.exceptions.SSLError as e:\n",
    "        print(e)\n",
    "        return None\n",
    "    except:\n",
    "        print(\"Unknown error. Unable to get further information.\")\n",
    "        return None\n",
    "\n",
    "    data = request.json()\n",
    "    return data['access_token'], data['expires_in']"
   ]
  },
  {
   "cell_type": "code",
   "execution_count": 5,
   "metadata": {
    "pycharm": {
     "name": "#%%\n"
    }
   },
   "outputs": [],
   "source": [
    "def fetch_playlists(authorization):\n",
    "    try:\n",
    "        url = 'https://api.spotify.com/v1/users/gangstarappa/playlists'\n",
    "        request = requests.get(url=url, headers={'Authorization': 'Bearer ' + authorization})\n",
    "    except OpenSSL.SSL.SysCallError as e:\n",
    "        print(e)\n",
    "        return None\n",
    "    except ssl.SSLError as e:\n",
    "        print(e)\n",
    "        return None\n",
    "    except exceptions.MaxRetryError as e:\n",
    "        print(e)\n",
    "        return None\n",
    "    except requests.exceptions.SSLError as e:\n",
    "        print(e)\n",
    "        return None\n",
    "    except:\n",
    "        print(\"Unknown error. Unable to get further information.\")\n",
    "        return None\n",
    "\n",
    "    data = request.json()\n",
    "    return data"
   ]
  },
  {
   "cell_type": "code",
   "execution_count": 6,
   "metadata": {
    "pycharm": {
     "name": "#%%\n"
    }
   },
   "outputs": [],
   "source": [
    "def fetch_playlist(authorization, playlist_id):\n",
    "    ret = list()\n",
    "    try:\n",
    "        offset = 0\n",
    "        for i in range(10):\n",
    "            url = 'https://api.spotify.com/v1/playlists/' + playlist_id + '/tracks'\n",
    "            request = requests.get(url=url, headers={'Authorization': 'Bearer ' + authorization}, params={'offset': str(offset)})\n",
    "            while request.status_code != 200:\n",
    "                if request.status_code == 429:\n",
    "                    retry = int(request.headers['Retry-After']) + 1\n",
    "                    print(f\"Process {getpid()}: Response code {request.status_code}. Retrying in {retry}s..\")\n",
    "                    time.sleep(retry)\n",
    "                    request = requests.get(url=url, headers={'Authorization': 'Bearer ' + authorization}, params={'offset': str(offset)})\n",
    "                elif request.status_code == 403:\n",
    "                    print(f\"Process {getpid()}: Response code {request.status_code}. Killing process.\")\n",
    "                    kill(getpid(), signal.SIGTERM)\n",
    "                    return None\n",
    "                else:\n",
    "                    print(f\"Response code {request.status_code}. Ending query chain.\")\n",
    "                    return None\n",
    "\n",
    "            offset += 100\n",
    "            data = request.json()\n",
    "            # print(data)\n",
    "            ret.append(data)\n",
    "    except OpenSSL.SSL.SysCallError as e:\n",
    "        print(e)\n",
    "        return None\n",
    "    except ssl.SSLError as e:\n",
    "        print(e)\n",
    "        return None\n",
    "    except exceptions.MaxRetryError as e:\n",
    "        print(e)\n",
    "        return None\n",
    "    except requests.exceptions.SSLError as e:\n",
    "        print(e)\n",
    "        return None\n",
    "    except:\n",
    "        print(\"Unknown error. Unable to get further information.\")\n",
    "        return None\n",
    "\n",
    "    return ret"
   ]
  },
  {
   "cell_type": "code",
   "execution_count": 7,
   "metadata": {
    "pycharm": {
     "name": "#%%\n"
    }
   },
   "outputs": [],
   "source": [
    "access_token, expires_in = get_auth_token()"
   ]
  },
  {
   "cell_type": "code",
   "execution_count": 8,
   "metadata": {
    "pycharm": {
     "name": "#%%\n"
    }
   },
   "outputs": [],
   "source": [
    "playlists_raw = fetch_playlists(access_token)"
   ]
  },
  {
   "cell_type": "code",
   "execution_count": 9,
   "metadata": {
    "pycharm": {
     "name": "#%%\n"
    }
   },
   "outputs": [],
   "source": [
    "playlists = dict()\n",
    "for playlist in playlists_raw['items']:\n",
    "    playlists[playlist['name']] = playlist['id']"
   ]
  },
  {
   "cell_type": "code",
   "execution_count": 10,
   "metadata": {
    "pycharm": {
     "name": "#%%\n"
    }
   },
   "outputs": [],
   "source": [
    "\n",
    "tracks_raw = fetch_playlist(access_token, playlists['#EDMParty'])"
   ]
  },
  {
   "cell_type": "code",
   "execution_count": 11,
   "metadata": {
    "pycharm": {
     "name": "#%%\n"
    }
   },
   "outputs": [
    {
     "name": "stdout",
     "output_type": "stream",
     "text": [
      "618\n"
     ]
    }
   ],
   "source": [
    "track_names = list()\n",
    "for item in tracks_raw:\n",
    "    for track in item['items']:\n",
    "        track_names.append(track['track']['name'])\n",
    "\n",
    "print(len(track_names))"
   ]
  },
  {
   "cell_type": "code",
   "execution_count": 27,
   "metadata": {
    "pycharm": {
     "name": "#%%\n"
    }
   },
   "outputs": [],
   "source": [
    "options = Options()\n",
    "options.headless = True\n",
    "driver = webdriver.Chrome(options=options, executable_path=r'E:/Program Files (x86)/Chromedriver/chromedriver.exe')\n",
    "driver.get('https://music.amazon.de/search')"
   ]
  },
  {
   "cell_type": "code",
   "execution_count": 28,
   "metadata": {
    "pycharm": {
     "name": "#%%\n"
    }
   },
   "outputs": [],
   "source": [
    "sign_in_button = WebDriverWait(driver, 10).until(\n",
    "        EC.presence_of_element_located((By.ID, 'signInButton'))\n",
    "    )\n",
    "sign_in_button.click()\n",
    "\n",
    "# \"\"\"\n",
    "email_input = driver.find_element_by_name('email')\n",
    "password_input = driver.find_element_by_name('password')\n",
    "submit_button = driver.find_element_by_id('signInSubmit')\n",
    "# \"\"\"\n",
    "\"\"\"\n",
    "email_input = WebDriverWait(driver, 10).until(\n",
    "        EC.presence_of_element_located((By.NAME, 'email'))\n",
    "    )\n",
    "password_input = WebDriverWait(driver, 10).until(\n",
    "        EC.presence_of_element_located((By.NAME, 'password'))\n",
    "    )\n",
    "submit_button = WebDriverWait(driver, 10).until(\n",
    "        EC.presence_of_element_located((By.NAME, 'signInSubmit'))\n",
    "    )\n",
    "    \"\"\"\n",
    "email_input.send_keys('simon.westfechtel@gmail.com')\n",
    "password_input.send_keys('ho9nktdoiPme5SspSQLd')\n",
    "submit_button.click()"
   ]
  },
  {
   "cell_type": "code",
   "execution_count": null,
   "metadata": {
    "pycharm": {
     "name": "#%%\n"
    },
    "scrolled": true
   },
   "outputs": [
    {
     "name": "stdout",
     "output_type": "stream",
     "text": [
      "failed to add song Sexy Bitch (feat. Akon)\n",
      "failed to add song Welcome to St. Tropez - DJ Antoine vs Mad Mark Radio Edit\n",
      "failed to add song Stars - Radio Edit\n",
      "failed to add song Lowdown - Original Mix\n",
      "failed to add song California\n",
      "failed to add song Dancing in London - David May Original Mix\n",
      "failed to add song Angels (feat. Kat Nestel) - Radio Edit\n",
      "failed to add song No Way Out - Extended Mix\n",
      "failed to add song The Nights\n",
      "failed to add song Turn It Down - Radio Edit\n",
      "failed to add song Titanium (feat. Sia)\n",
      "failed to add song Secrets - Radio Edit\n",
      "failed to add song Get Up (Rattle) - Radio Mix\n",
      "failed to add song Happy Violence\n",
      "failed to add song Jetfuel (feat. Cris Gamble) - Original Mix\n",
      "failed to add song Drvgs (feat. Hayley Gene)\n",
      "failed to add song Ebony Eyes - Original Edit\n",
      "failed to add song Insomnia 2.0 (Avicii Remix) [Radio Edit]\n",
      "failed to add song Rebel - Radio Edit\n",
      "failed to add song Find Tomorrow (Ocarina) (feat. Wolfpack & Katy B) - Radio Edit\n",
      "failed to add song Alive\n",
      "failed to add song Tropic Love\n",
      "failed to add song +1 - Radio Edit\n",
      "failed to add song Higher\n",
      "failed to add song Sweet Lovin' - Radio Edit\n",
      "failed to add song Stay (feat. Maty Noyes)\n",
      "failed to add song Roses (feat. ROZES)\n",
      "failed to add song Fall Out (Airbeat One Anthem 2015)\n",
      "failed to add song Catch Me\n",
      "failed to add song Run (feat. Jessica Main)\n",
      "failed to add song Jefrome - Unity vs Afrojack & Steve Aoki - No Beef (Jefrome Mashup)\n",
      "failed to add song Bazaar (Official Sunburn Goa 2015 Anthem)\n",
      "failed to add song Hear Me - BYNON Remix\n",
      "failed to add song The Nameless\n",
      "failed to add song Ghosts - Courtland & EKG Remix\n",
      "failed to add song Playades - Radio Eidt\n",
      "failed to add song I Need You feat. Amanda Wilson (East Freaks Remix)\n",
      "failed to add song Show Me Love - Radio Edit\n",
      "failed to add song Raven\n",
      "failed to add song Flames - Original Mix\n",
      "failed to add song Lift Your Hands - Radio Edit\n",
      "failed to add song Dancing Lorea\n",
      "failed to add song Another Day\n",
      "failed to add song Hundred Miles\n",
      "failed to add song Bad (feat. Vassy) - Radio Edit\n",
      "failed to add song Zyzz - Original Mix\n",
      "failed to add song Tiger\n",
      "failed to add song The Riddle Anthem - Jack Holiday & Mike Candys Festival Remix\n",
      "failed to add song My Heart\n",
      "failed to add song California Dreamin - Calvo Remix\n",
      "failed to add song Why - Original Edit\n",
      "failed to add song You\n",
      "failed to add song Coming Home (feat. Sons of the East)\n",
      "failed to add song Shine\n",
      "failed to add song Jackpot (The Him Remix)\n",
      "failed to add song Marching On\n",
      "failed to add song Rocks N Stones - Radio Edit\n",
      "failed to add song Lost - Extended Mix\n",
      "failed to add song Theme O\n",
      "failed to add song Galaxy\n",
      "failed to add song Strike (Original Mix)\n",
      "failed to add song Hocus Pocus - Original Mix\n",
      "failed to add song Beyond\n",
      "failed to add song Seven\n",
      "failed to add song The Colors In Your Eyes - Radio Edit\n",
      "failed to add song My Forever - Reez Remix\n",
      "failed to add song Vice\n",
      "failed to add song Kundalini\n",
      "failed to add song Heroes Tonight\n",
      "failed to add song Cake By The Ocean\n",
      "failed to add song Into The Fire\n",
      "failed to add song Nevada (feat. Cozi Zuehlsdorff)\n",
      "failed to add song Freed From Desire - Radio Edit\n",
      "failed to add song Close Your Eyes (Official Parookaville Festival Anthem) - Original Mix\n",
      "failed to add song Far From Home\n",
      "failed to add song Need U - Radio Edit\n",
      "failed to add song Moirai\n",
      "failed to add song Happiest Man on Earth - Radio Edit\n",
      "failed to add song Streak - Edit\n",
      "failed to add song How Many\n",
      "failed to add song Pirates\n",
      "failed to add song Into the Light\n",
      "failed to add song On Fire\n",
      "failed to add song You Could Be Happy - Paul Oakenfold Future House Mix\n",
      "failed to add song See You Soon\n",
      "failed to add song Nova\n",
      "failed to add song Memories - Radio Edit\n",
      "failed to add song Electric Elephants\n",
      "failed to add song Downtown\n",
      "failed to add song Strong - Edit\n",
      "failed to add song Flash\n",
      "failed to add song Love Shine\n",
      "failed to add song Illuminati - Original Mix\n",
      "failed to add song WooW - Radio Edit\n",
      "failed to add song Louder - Extended Mix\n",
      "failed to add song I Wanna Luv Ya - Deep House Extended Mix\n",
      "failed to add song Last Resort (Djs from Mars Human Radio Edit)\n",
      "failed to add song Unattainable (feat. Puck Cyson) - Radio Edit\n",
      "failed to add song Waiting For You\n",
      "failed to add song Follow You\n",
      "failed to add song The Ocean (feat. Shy Martin)\n",
      "failed to add song Bonfire\n",
      "failed to add song Hump - Edit\n",
      "failed to add song Rocket\n",
      "failed to add song Too Late\n",
      "failed to add song Kids - Extended\n",
      "failed to add song Chaos - Original Mix\n",
      "failed to add song 12 Inch - Picco Edit\n",
      "failed to add song Shimmy Shake (Again) - Radio Edit\n",
      "failed to add song Satisfied - Radio Edit\n",
      "failed to add song Party Animals - Radio Edit\n",
      "failed to add song Stay\n",
      "failed to add song Ah Yeah So What - Extended Mix\n",
      "failed to add song Toca (feat. Timmy Trumpet & KSHMR)\n",
      "failed to add song The Wave - Original Mix\n",
      "failed to add song Split (Only U)\n",
      "failed to add song Heartbreak\n",
      "failed to add song Go\n",
      "failed to add song Wildcard (feat. Sidnie Tipton)\n",
      "failed to add song Break The House - Original Mix\n",
      "failed to add song Stars\n",
      "failed to add song We Like To Party\n",
      "failed to add song No Heroes (feat. Luciana) - Original Mix\n",
      "failed to add song Raise Your Hands - Original Mix\n",
      "failed to add song Fireflies\n",
      "failed to add song Damn Son\n",
      "failed to add song Candyland\n",
      "failed to add song SuperWave - Original Mix\n",
      "failed to add song Spectre\n",
      "failed to add song Boneless\n",
      "failed to add song Body Talk (Mammoth) - Radio Edit\n",
      "failed to add song Do It Again\n",
      "failed to add song Into the Blue (feat. Pearl Andersson)\n",
      "failed to add song Tonight\n",
      "failed to add song Make It Right\n",
      "failed to add song Scandal (Abedz & Uplink Remix)\n",
      "failed to add song Be Right There\n",
      "failed to add song Hold On - Vijay & Sofia Zlatko Remix\n",
      "failed to add song You're Still Blind\n",
      "failed to add song Been A While - Madison Mars Remix Edit\n",
      "failed to add song Barricade - Club Mix\n",
      "failed to add song Pinball\n",
      "failed to add song On My Way\n"
     ]
    }
   ],
   "source": [
    "for song in track_names:\n",
    "    try:\n",
    "        \n",
    "        time.sleep(1)\n",
    "        \"\"\"\n",
    "        navbar_search_input = driver.find_element_by_id('navbarSearchInput')\n",
    "        \"\"\"\n",
    "        # \"\"\"\n",
    "        navbar_search_input = WebDriverWait(driver, 10).until(\n",
    "            EC.presence_of_element_located((By.ID, 'navbarSearchInput'))\n",
    "        )\n",
    "        # \"\"\"\n",
    "        navbar_search_input.send_keys(song)\n",
    "        navbar_search_input.send_keys(Keys.RETURN)\n",
    "\n",
    "        time.sleep(1)\n",
    "        # \"\"\"\n",
    "        hydrated_elements = driver.find_elements_by_class_name('hydrated')\n",
    "        # \"\"\"\n",
    "        \"\"\"\n",
    "        hydrated_elements = WebDriverWait(driver, 10).until(\n",
    "            EC.presence_of_element_located((By.CLASS_NAME, 'hydrated'))\n",
    "        )\n",
    "        \"\"\"\n",
    "\n",
    "        play = hydrated_elements[17]\n",
    "        play.click()\n",
    "\n",
    "        context_menu = hydrated_elements[19]\n",
    "        context_menu.click()\n",
    "\n",
    "        # \"\"\"\n",
    "        add_to_playlist = driver.find_element_by_id('contextMenuOption1')\n",
    "        # \"\"\"\n",
    "        \"\"\"\n",
    "        add_to_playlist = WebDriverWait(driver, 10).until(\n",
    "            EC.presence_of_element_located((By.ID, 'contextMenuOption1'))\n",
    "        )\n",
    "        \"\"\"\n",
    "        add_to_playlist.click()\n",
    "\n",
    "        time.sleep(1)\n",
    "        # \"\"\"\n",
    "        playlist = driver.find_element_by_class_name('col1')\n",
    "        # \"\"\"\n",
    "        \"\"\"\n",
    "        playlist = WebDriverWait(driver, 10).until(\n",
    "            EC.presence_of_element_located((By.CLASS_NAME, 'col1'))\n",
    "        )\n",
    "        \"\"\"\n",
    "        playlist.click()\n",
    "        driver.get('https://music.amazon.de/search')\n",
    "    except:\n",
    "        print(f\"failed to add song {song}\")\n",
    "        driver.get('https://music.amazon.de/search')\n",
    "        continue\n",
    "\n",
    "driver.quit()"
   ]
  },
  {
   "cell_type": "code",
   "execution_count": null,
   "metadata": {},
   "outputs": [],
   "source": [
    "driver.quit()"
   ]
  },
  {
   "cell_type": "code",
   "execution_count": null,
   "metadata": {},
   "outputs": [],
   "source": []
  }
 ],
 "metadata": {
  "kernelspec": {
   "display_name": "Python 3",
   "language": "python",
   "name": "python3"
  },
  "language_info": {
   "codemirror_mode": {
    "name": "ipython",
    "version": 3
   },
   "file_extension": ".py",
   "mimetype": "text/x-python",
   "name": "python",
   "nbconvert_exporter": "python",
   "pygments_lexer": "ipython3",
   "version": "3.8.5"
  }
 },
 "nbformat": 4,
 "nbformat_minor": 1
}